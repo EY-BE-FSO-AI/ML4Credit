{
 "cells": [
  {
   "cell_type": "markdown",
   "metadata": {},
   "source": [
    "Import All Packages"
   ]
  },
  {
   "cell_type": "code",
   "execution_count": 28,
   "metadata": {},
   "outputs": [
    {
     "ename": "ImportError",
     "evalue": "cannot import name 'balanced_accuracy_score'",
     "output_type": "error",
     "traceback": [
      "\u001b[1;31m---------------------------------------------------------------------------\u001b[0m",
      "\u001b[1;31mImportError\u001b[0m                               Traceback (most recent call last)",
      "\u001b[1;32m<ipython-input-28-fc4a07f1ec93>\u001b[0m in \u001b[0;36m<module>\u001b[1;34m()\u001b[0m\n\u001b[0;32m     23\u001b[0m \u001b[1;33m\u001b[0m\u001b[0m\n\u001b[0;32m     24\u001b[0m \u001b[1;32mfrom\u001b[0m \u001b[0msklearn\u001b[0m\u001b[1;33m.\u001b[0m\u001b[0mmetrics\u001b[0m \u001b[1;32mimport\u001b[0m \u001b[0mroc_auc_score\u001b[0m\u001b[1;33m,\u001b[0m \u001b[0maccuracy_score\u001b[0m\u001b[1;33m\u001b[0m\u001b[0m\n\u001b[1;32m---> 25\u001b[1;33m \u001b[1;32mfrom\u001b[0m \u001b[0msklearn\u001b[0m\u001b[1;33m.\u001b[0m\u001b[0mmetrics\u001b[0m \u001b[1;32mimport\u001b[0m \u001b[0mbalanced_accuracy_score\u001b[0m\u001b[1;33m\u001b[0m\u001b[0m\n\u001b[0m\u001b[0;32m     26\u001b[0m \u001b[1;32mfrom\u001b[0m \u001b[0mimblearn\u001b[0m\u001b[1;33m.\u001b[0m\u001b[0mover_sampling\u001b[0m \u001b[1;32mimport\u001b[0m \u001b[0mSMOTE\u001b[0m\u001b[1;33m\u001b[0m\u001b[0m\n",
      "\u001b[1;31mImportError\u001b[0m: cannot import name 'balanced_accuracy_score'"
     ]
    }
   ],
   "source": [
    "import pandas as pd\n",
    "import numpy as np\n",
    "import time\n",
    "\n",
    "import warnings # current version of seaborn generates a bunch of warnings that we'll ignore\n",
    "warnings.filterwarnings(\"ignore\")\n",
    "import seaborn as sns\n",
    "\n",
    "import matplotlib.pyplot as plt\n",
    "sns.set(style=\"white\", color_codes=True)\n",
    "from matplotlib.pyplot import cm\n",
    "%matplotlib inline\n",
    "\n",
    "from sklearn.manifold import TSNE\n",
    "\n",
    "from sklearn.preprocessing import LabelEncoder\n",
    "from sklearn import preprocessing\n",
    "import xgboost as xgb\n",
    "from sklearn.cross_validation import train_test_split\n",
    "from sklearn.model_selection import StratifiedKFold\n",
    "import sklearn.metrics\n",
    "# from sklearn.metrics import balanced_accuracy_score\n",
    "\n",
    "from sklearn.metrics import roc_auc_score, accuracy_score\n",
    "# from sklearn.metrics import balanced_accuracy_score\n",
    "from imblearn.over_sampling import SMOTE"
   ]
  },
  {
   "cell_type": "markdown",
   "metadata": {},
   "source": [
    "Load All Data"
   ]
  },
  {
   "cell_type": "code",
   "execution_count": 3,
   "metadata": {},
   "outputs": [],
   "source": [
    "def load_data(maxLines, duplicates):\n",
    "\n",
    "    \"\"\"\n",
    "        Import datasets, select features and define the default-flag collumn.\n",
    "    \"\"\"\n",
    "    \n",
    "    col_acq = ['LoanID','Channel','SellerName','OrInterestRate','OrUnpaidPrinc','OrLoanTerm',\n",
    "            'OrDate','FirstPayment','OrLTV','OrCLTV','NumBorrow','DTIRat','CreditScore',\n",
    "            'FTHomeBuyer','LoanPurpose','PropertyType','NumUnits','OccStatus','PropertyState',\n",
    "            'Zip','MortInsPerc','ProductType','CoCreditScore','MortInsType','RelMortInd']\n",
    "    \n",
    "    extended_selec_acq = ['LoanID', 'OrLTV', 'LoanPurpose', 'DTIRat', 'PropertyType', 'FTHomeBuyer', 'Channel', 'SellerName','OrInterestRate', 'CreditScore', 'NumBorrow', 'OrDate'] \n",
    "    col_acq_subset = extended_selec_acq \n",
    "    \n",
    "    col_per = ['LoanID','MonthRep','Servicer','CurrInterestRate','CAUPB','LoanAge','MonthsToMaturity',\n",
    "              'AdMonthsToMaturity','MaturityDate','MSA','CLDS','ModFlag','ZeroBalCode','ZeroBalDate',\n",
    "              'LastInstallDate','ForeclosureDate','DispositionDate','PPRC','AssetRecCost','MHRC',\n",
    "              'ATFHP','NetSaleProceeds','CreditEnhProceeds','RPMWP','OFP','NIBUPB','PFUPB','RMWPF',\n",
    "              'FPWA','ServicingIndicator'] \n",
    "    \n",
    "    extended_selec_per = ['LoanID', 'MonthsToMaturity', 'CurrInterestRate', 'ForeclosureDate', 'LoanAge', 'CLDS', 'MaturityDate','ZeroBalCode', 'MonthRep']\n",
    "    \n",
    "    col_per_subset =  extended_selec_per \n",
    "    \n",
    "    lines_to_read = maxLines\n",
    "    aquisition_frame = pd.read_csv('C:/Users/bebxadvberb/Documents/AI/Trusted AI/Acquisition_2007Q4.txt', sep='|', names=col_acq, usecols=col_acq_subset, index_col=False, nrows=lines_to_read )\n",
    "    performance_frame = pd.read_csv('C:/Users/bebxadvberb/Documents/AI/Trusted AI/Performance_2007Q4.txt', sep='|', names=col_per, usecols=col_per_subset, index_col=False, nrows=lines_to_read) \n",
    "\n",
    "    \"\"\" Fix the IDs in the observation set by fixing their reporting date AND requiring that the files are healthy. \"\"\"\n",
    "    \n",
    "    observation_frame = performance_frame[(performance_frame.MonthRep == '12/01/2017') & \n",
    "                                (   (performance_frame.CLDS == '0') | \n",
    "                                    (performance_frame.CLDS == '1') | \n",
    "                                    (performance_frame.CLDS == '2')\n",
    "                                )\n",
    "                                ]\n",
    "    obs_ids = observation_frame.LoanID\n",
    "    \n",
    "    \"\"\" Load only the observation IDs in the performance frame initially. \"\"\"\n",
    "    pf = performance_frame[performance_frame.LoanID.isin(obs_ids)]\n",
    "    \n",
    "    \"\"\" Keep only the reporting dates that are in our performance period (MM/DD/YYYY format). \"\"\"\n",
    "    pf_obs = pf[\n",
    "                    (pf.MonthRep == '01/01/2018') | \n",
    "                    (pf.MonthRep == '02/01/2018') |\n",
    "                    (pf.MonthRep == '03/01/2018') |\n",
    "                    (pf.MonthRep == '04/01/2018') |\n",
    "                    (pf.MonthRep == '05/01/2018') |\n",
    "                    (pf.MonthRep == '06/01/2018') |\n",
    "                    (pf.MonthRep == '07/01/2018') |\n",
    "                    (pf.MonthRep == '08/01/2018') |\n",
    "                    (pf.MonthRep == '09/01/2018') |\n",
    "                    (pf.MonthRep == '10/01/2018') |\n",
    "                    (pf.MonthRep == '11/01/2018') |\n",
    "                    (pf.MonthRep == '12/01/2018') \n",
    "                ]\n",
    "    \n",
    "    \"\"\" \n",
    "    Find the LoanIDs of those loans where a default appears in our performance period.\n",
    "    \"\"\"\n",
    "    pf_obs_defaults = pf_obs[\n",
    "                            (pf_obs.CLDS != '0') &\n",
    "                            (pf_obs.CLDS != '1') &\n",
    "                            (pf_obs.CLDS != '2') &\n",
    "                            (pf_obs.CLDS != 'X')\n",
    "                        ].LoanID\n",
    "    \n",
    "    pf_obs_defaults.drop_duplicates(keep='last', inplace=True)\n",
    "    \n",
    "    \"\"\" Merge the acquisition and performance frames. \"\"\"\n",
    "    df = pd.merge(aquisition_frame, observation_frame, on = 'LoanID', how='inner')\n",
    "    \n",
    "    df['Default'] = 0\n",
    "    df.loc[df['LoanID'].isin(pf_obs_defaults), 'Default'] = 1\n",
    "    \n",
    "    \n",
    "    return df"
   ]
  },
  {
   "cell_type": "code",
   "execution_count": null,
   "metadata": {},
   "outputs": [],
   "source": []
  },
  {
   "cell_type": "code",
   "execution_count": 4,
   "metadata": {},
   "outputs": [],
   "source": [
    "def make_target_var(df):\n",
    "    df.rename(index=str, columns={'ForeclosureDate': 'Default'}, inplace= True)\n",
    "    df['Default'].fillna(0, inplace=True)\n",
    "    df.loc[df['Default'] != 0, 'Default'] = 1"
   ]
  },
  {
   "cell_type": "code",
   "execution_count": 5,
   "metadata": {},
   "outputs": [],
   "source": [
    "def get_na_columns(df):\n",
    "    na_columns = df.columns[df.isnull().any()]\n",
    "    return na_columns"
   ]
  },
  {
   "cell_type": "code",
   "execution_count": 6,
   "metadata": {},
   "outputs": [],
   "source": [
    "def get_cat_feat(df):\n",
    "    cat_feat = df.select_dtypes(include=['object']).columns\n",
    "    return cat_feat\n",
    "\n",
    "def get_num_feat(df):\n",
    "    num_feat = df.select_dtypes(exclude=['object']).columns\n",
    "    return num_feat"
   ]
  },
  {
   "cell_type": "code",
   "execution_count": 7,
   "metadata": {},
   "outputs": [],
   "source": [
    "def normalize(df):\n",
    "    df_norm = df\n",
    "    df_norm = df_norm.apply(lambda x: (x - x.min()) / (x.max() - x.min()))\n",
    "    return df_norm"
   ]
  },
  {
   "cell_type": "code",
   "execution_count": 8,
   "metadata": {},
   "outputs": [],
   "source": [
    "def makeDateNumeric(text):\n",
    "    numMonths = int(text[:2])\n",
    "    numYears = int(text[3:7])\n",
    "    result = (numYears - 2000) * 12 + numMonths\n",
    "    return result\n",
    "\n",
    "\n",
    "def makeDayNumeric(text):\n",
    "    numMonths = int(text[:2])\n",
    "    numYears = int(text[6:10])\n",
    "    result = (numYears - 2000) * 12 + numMonths\n",
    "    return result\n",
    "\n",
    "def make_dates_numeric(df):\n",
    "    # TRANSFORM DATES TO NUMBER OF MONTHS (STARTING FROM 01/2000)\n",
    "    df['MonthRep'] = df['MonthRep'].apply(makeDayNumeric)\n",
    "    df['OrDate'] = df['OrDate'].apply(makeDateNumeric)\n",
    "    df['FirstPayment'] = df['FirstPayment'].apply(makeDateNumeric)\n",
    "    df['MaturityDate'] = df['MaturityDate'].apply(makeDateNumeric)"
   ]
  },
  {
   "cell_type": "code",
   "execution_count": 9,
   "metadata": {},
   "outputs": [],
   "source": [
    "def to_2D(df):\n",
    "        # TSNE - Dimentionality reduction\n",
    "    print ('Training T-SNE ...')\n",
    "\n",
    "    tsne = TSNE(n_components=2, random_state=1, n_iter=250, verbose=1)\n",
    "    df_2D = tsne.fit_transform(df)\n",
    "    df_2D = pd.DataFrame(df_2D)\n",
    "    return df_2D"
   ]
  },
  {
   "cell_type": "code",
   "execution_count": 10,
   "metadata": {},
   "outputs": [],
   "source": [
    "def tsne_visual(df):   \n",
    "        # TSNE - Dimentionality reduction\n",
    "    print ('Training T-SNE ...')\n",
    "\n",
    "    tsne = TSNE(n_components=2, random_state=1, n_iter=250, verbose=1)\n",
    "    df_2D = tsne.fit_transform(df.drop('Default', axis=1))\n",
    "    df_2D = pd.DataFrame(df_2D)\n",
    "    \n",
    "    \n",
    "    #Making plot\n",
    "    plt.figure(figsize=(20,10))\n",
    "    color = cm.rainbow(np.linspace(0,1, max(map(abs, set(df['Default'])))+1))\n",
    "    for i in range(0, len(df_2D)):\n",
    "        c1 = plt.scatter(df_2D.iloc[i][0], \n",
    "                         df_2D.iloc[i][1],\n",
    "                     c = color[int(df.iloc[i]['Default'])],\n",
    "                     marker=r\"$ {} $\".format(int(df.iloc[i]['Default'])), s=150, edgecolors='none')\n",
    "\n",
    "    plt.xlabel('T-SNE Dim 1')\n",
    "    plt.ylabel('T-SNE Dim 2')\n",
    "    plt.title('Actives')\n",
    "    plt.legend(loc='best')\n",
    "    plt.grid(True)\n",
    "    plt.savefig('Actives' + '.pdf', format='pdf', dpi=900)\n",
    "    plt.show()"
   ]
  },
  {
   "cell_type": "code",
   "execution_count": null,
   "metadata": {},
   "outputs": [],
   "source": []
  },
  {
   "cell_type": "markdown",
   "metadata": {},
   "source": [
    "MAIN"
   ]
  },
  {
   "cell_type": "code",
   "execution_count": null,
   "metadata": {
    "scrolled": false
   },
   "outputs": [],
   "source": []
  },
  {
   "cell_type": "code",
   "execution_count": null,
   "metadata": {},
   "outputs": [],
   "source": []
  },
  {
   "cell_type": "code",
   "execution_count": 11,
   "metadata": {},
   "outputs": [
    {
     "name": "stdout",
     "output_type": "stream",
     "text": [
      "Index(['OrInterestRate', 'OrLTV', 'NumBorrow', 'DTIRat', 'CreditScore',\n",
      "       'CurrInterestRate', 'LoanAge', 'MonthsToMaturity', 'Default', 'Channel',\n",
      "       'SellerName', 'OrDate', 'FTHomeBuyer', 'LoanPurpose', 'PropertyType',\n",
      "       'MonthRep', 'MaturityDate', 'CLDS'],\n",
      "      dtype='object')\n"
     ]
    }
   ],
   "source": [
    "df = load_data(100000, False)\n",
    "# make_dates_numeric(df)\n",
    "\n",
    "# FORCE FEATURES TO BE INCLUDED\n",
    "df = df[pd.notnull(df['CreditScore'])]\n",
    "# df = df[pd.notnull(df['CLDS'])]\n",
    "df = df[pd.notnull(df['DTIRat'])]\n",
    "\n",
    "# FORCE FEATURES TO BE EXCLUDED\n",
    "df = df.drop('LoanID',axis=1)\n",
    "\n",
    "# FORCE FEATURE TO BE CATEGORICAL\n",
    "# df['Zip'] = df['Zip'].astype('object',copy=False)\n",
    "# df['MSA'] = df['MSA'].astype('object',copy=False)\n",
    "\n",
    "\n",
    "na_columns = get_na_columns(df)\n",
    "df = df.drop(na_columns,axis=1)\n",
    "\n",
    "cat_feat = get_cat_feat(df)\n",
    "cat_data = df[cat_feat]\n",
    "cat_data = cat_data.apply(LabelEncoder().fit_transform)\n",
    "\n",
    "num_feat = get_num_feat(df)\n",
    "num_data = normalize(df[num_feat])\n",
    "\n",
    "df = pd.concat([num_data, cat_data], axis=1)\n",
    "print(df.columns)"
   ]
  },
  {
   "cell_type": "markdown",
   "metadata": {},
   "source": [
    "MAIN 2"
   ]
  },
  {
   "cell_type": "code",
   "execution_count": null,
   "metadata": {},
   "outputs": [],
   "source": []
  },
  {
   "cell_type": "code",
   "execution_count": null,
   "metadata": {},
   "outputs": [],
   "source": []
  },
  {
   "cell_type": "code",
   "execution_count": 12,
   "metadata": {},
   "outputs": [],
   "source": [
    "\"\"\"\n",
    "    Split the target variable from the input variables.\n",
    "\"\"\" \n",
    "y = df['Default']\n",
    "X = df.drop(['Default'], axis=1)"
   ]
  },
  {
   "cell_type": "code",
   "execution_count": 13,
   "metadata": {},
   "outputs": [
    {
     "name": "stdout",
     "output_type": "stream",
     "text": [
      "0.0    144\n",
      "1.0     16\n",
      "Name: Default, dtype: int64\n"
     ]
    }
   ],
   "source": [
    "print(y.value_counts())"
   ]
  },
  {
   "cell_type": "code",
   "execution_count": 174,
   "metadata": {},
   "outputs": [
    {
     "name": "stdout",
     "output_type": "stream",
     "text": [
      "StratifiedKFold(n_splits=10, random_state=None, shuffle=False)\n"
     ]
    }
   ],
   "source": []
  },
  {
   "cell_type": "code",
   "execution_count": 14,
   "metadata": {},
   "outputs": [
    {
     "name": "stdout",
     "output_type": "stream",
     "text": [
      "0.0    144\n",
      "1.0    144\n",
      "dtype: int64\n"
     ]
    }
   ],
   "source": [
    "\"\"\"\n",
    "    Balance classes with Synthetic Minority Oversampling Technique (SMOTE) or Random Undersampling.\n",
    "    Choose here either sampling_method = \"Random Under Sampling\" or \"SMOTE\". \n",
    "    Save n_1 and n_0 separately to apply a correction to the resampling when using the model to predict.\n",
    "\"\"\"     \n",
    "\n",
    "n_1 = sum(y)\n",
    "n_0 = len(y) - sum(y)\n",
    "\n",
    "sm = SMOTE()\n",
    "\n",
    "X_cols = X.columns\n",
    "X, y = sm.fit_sample(X, y) # fit_sample takes a dataframe, but returns an array. \n",
    "(X, y) = (pd.DataFrame(X, columns=X_cols), pd.Series(y))\n",
    "print(y.value_counts())"
   ]
  },
  {
   "cell_type": "code",
   "execution_count": 16,
   "metadata": {},
   "outputs": [
    {
     "name": "stdout",
     "output_type": "stream",
     "text": [
      "StratifiedKFold(n_splits=10, random_state=None, shuffle=False)\n"
     ]
    }
   ],
   "source": [
    "# X = np.array([[1, 2], [3, 4], [1, 2], [3, 4]])\n",
    "# y = np.array([0, 0, 1, 1])\n",
    "skf = StratifiedKFold(n_splits=10)\n",
    "skf.get_n_splits(X, y)\n",
    "\n",
    "print(skf)\n",
    "\n",
    "from xgboost import XGBClassifier\n",
    "model = XGBClassifier()"
   ]
  },
  {
   "cell_type": "code",
   "execution_count": 24,
   "metadata": {},
   "outputs": [
    {
     "name": "stdout",
     "output_type": "stream",
     "text": [
      "False\n",
      "144.0 288\n",
      "Accuracy: 83.33% AUC: 83.33%\n",
      "False\n",
      "144.0 288\n",
      "Accuracy: 93.33% AUC: 93.33%\n",
      "False\n",
      "144.0 288\n",
      "Accuracy: 93.33% AUC: 93.33%\n",
      "False\n",
      "144.0 288\n",
      "Accuracy: 96.67% AUC: 96.67%\n",
      "False\n",
      "144.0 288\n",
      "Accuracy: 89.29% AUC: 89.29%\n",
      "False\n",
      "144.0 288\n",
      "Accuracy: 100.00% AUC: 100.00%\n",
      "False\n",
      "144.0 288\n",
      "Accuracy: 100.00% AUC: 100.00%\n",
      "False\n",
      "144.0 288\n",
      "Accuracy: 100.00% AUC: 100.00%\n",
      "False\n",
      "144.0 288\n",
      "Accuracy: 100.00% AUC: 100.00%\n",
      "False\n",
      "144.0 288\n",
      "Accuracy: 96.43% AUC: 96.43%\n"
     ]
    }
   ],
   "source": [
    "for train_index, test_index in skf.split(X, y):\n",
    "    # print(\"TRAIN:\", train_index, \"TEST:\", test_index)\n",
    "    X_train, X_test = X.iloc[train_index], X.iloc[test_index]\n",
    "    y_train, y_test = y.iloc[train_index], y.iloc[test_index]\n",
    "    print(y_train.isnull().values.any())\n",
    "    \n",
    "    # fit model on training data\n",
    "    model.fit(X_train, y_train)\n",
    "    # make predictions for test data\n",
    "    y_pred = model.predict(X_test)\n",
    "    predictions = [round(value) for value in y_pred]\n",
    "    # evaluate predictions\n",
    "    auc = roc_auc_score(y_test, predictions)\n",
    "    accuracy = accuracy_score(y_test, predictions)\n",
    "    print(\"Accuracy: %.2f%%\" % (accuracy * 100.0), \"AUC: %.2f%%\" % (auc * 100.0))"
   ]
  },
  {
   "cell_type": "code",
   "execution_count": null,
   "metadata": {},
   "outputs": [],
   "source": []
  },
  {
   "cell_type": "code",
   "execution_count": null,
   "metadata": {},
   "outputs": [],
   "source": []
  },
  {
   "cell_type": "code",
   "execution_count": null,
   "metadata": {},
   "outputs": [],
   "source": []
  },
  {
   "cell_type": "code",
   "execution_count": null,
   "metadata": {},
   "outputs": [],
   "source": []
  },
  {
   "cell_type": "code",
   "execution_count": null,
   "metadata": {},
   "outputs": [],
   "source": []
  },
  {
   "cell_type": "code",
   "execution_count": null,
   "metadata": {},
   "outputs": [],
   "source": []
  },
  {
   "cell_type": "code",
   "execution_count": null,
   "metadata": {},
   "outputs": [],
   "source": []
  },
  {
   "cell_type": "code",
   "execution_count": null,
   "metadata": {},
   "outputs": [],
   "source": []
  },
  {
   "cell_type": "code",
   "execution_count": null,
   "metadata": {},
   "outputs": [],
   "source": []
  },
  {
   "cell_type": "code",
   "execution_count": null,
   "metadata": {},
   "outputs": [],
   "source": []
  },
  {
   "cell_type": "code",
   "execution_count": null,
   "metadata": {},
   "outputs": [],
   "source": []
  },
  {
   "cell_type": "code",
   "execution_count": null,
   "metadata": {},
   "outputs": [],
   "source": []
  },
  {
   "cell_type": "code",
   "execution_count": null,
   "metadata": {},
   "outputs": [],
   "source": []
  },
  {
   "cell_type": "code",
   "execution_count": null,
   "metadata": {},
   "outputs": [],
   "source": []
  },
  {
   "cell_type": "code",
   "execution_count": null,
   "metadata": {},
   "outputs": [],
   "source": []
  },
  {
   "cell_type": "code",
   "execution_count": null,
   "metadata": {},
   "outputs": [],
   "source": []
  },
  {
   "cell_type": "code",
   "execution_count": null,
   "metadata": {},
   "outputs": [],
   "source": []
  },
  {
   "cell_type": "code",
   "execution_count": null,
   "metadata": {},
   "outputs": [],
   "source": []
  },
  {
   "cell_type": "code",
   "execution_count": null,
   "metadata": {},
   "outputs": [],
   "source": []
  },
  {
   "cell_type": "code",
   "execution_count": null,
   "metadata": {},
   "outputs": [],
   "source": []
  },
  {
   "cell_type": "code",
   "execution_count": null,
   "metadata": {},
   "outputs": [],
   "source": []
  },
  {
   "cell_type": "code",
   "execution_count": null,
   "metadata": {},
   "outputs": [],
   "source": []
  },
  {
   "cell_type": "code",
   "execution_count": null,
   "metadata": {},
   "outputs": [],
   "source": []
  },
  {
   "cell_type": "code",
   "execution_count": null,
   "metadata": {},
   "outputs": [],
   "source": []
  },
  {
   "cell_type": "code",
   "execution_count": null,
   "metadata": {},
   "outputs": [],
   "source": []
  }
 ],
 "metadata": {
  "kernelspec": {
   "display_name": "Python 3",
   "language": "python",
   "name": "python3"
  },
  "language_info": {
   "codemirror_mode": {
    "name": "ipython",
    "version": 3
   },
   "file_extension": ".py",
   "mimetype": "text/x-python",
   "name": "python",
   "nbconvert_exporter": "python",
   "pygments_lexer": "ipython3",
   "version": "3.6.5"
  }
 },
 "nbformat": 4,
 "nbformat_minor": 2
}
