{
 "cells": [
  {
   "cell_type": "markdown",
   "metadata": {},
   "source": [
    "In this notebook we test an XGBoost model"
   ]
  },
  {
   "cell_type": "markdown",
   "metadata": {},
   "source": [
    "Import All Packages"
   ]
  },
  {
   "cell_type": "code",
   "execution_count": 11,
   "metadata": {},
   "outputs": [
    {
     "name": "stderr",
     "output_type": "stream",
     "text": [
      "C:\\Users\\bebxadvberb\\AppData\\Local\\Continuum\\anaconda3\\lib\\site-packages\\sklearn\\cross_validation.py:41: DeprecationWarning: This module was deprecated in version 0.18 in favor of the model_selection module into which all the refactored classes and functions are moved. Also note that the interface of the new CV iterators are different from that of this module. This module will be removed in 0.20.\n",
      "  \"This module will be removed in 0.20.\", DeprecationWarning)\n"
     ]
    }
   ],
   "source": [
    "\"\"\"\n",
    "    Import statements \n",
    "\"\"\"\n",
    "\n",
    "import time\n",
    "import xgboost as xgb\n",
    "import pandas as pd\n",
    "import numpy as np\n",
    "import seaborn as sns\n",
    "import matplotlib.pyplot as plt\n",
    "import sklearn.metrics\n",
    "import datetime as dt\n",
    "\n",
    "\n",
    "from sklearn.model_selection import train_test_split\n",
    "\n",
    "from sklearn.preprocessing import OneHotEncoder\n",
    "from matplotlib.pyplot import cm\n",
    "from sklearn.manifold import TSNE\n",
    "from sklearn.preprocessing import LabelEncoder\n",
    "from sklearn import preprocessing\n",
    "from sklearn.model_selection import StratifiedKFold\n",
    "from sklearn.metrics import roc_auc_score, accuracy_score, roc_curve, f1_score, average_precision_score\n",
    "from sklearn.metrics import classification_report, confusion_matrix\n",
    "from imblearn.over_sampling import SMOTE\n",
    "\n",
    "sns.set(style=\"white\", color_codes=True)\n",
    "%matplotlib inline\n",
    "\n"
   ]
  },
  {
   "cell_type": "code",
   "execution_count": 13,
   "metadata": {},
   "outputs": [],
   "source": [
    "\"\"\"\n",
    "    Author: Nicolas Bulté\n",
    "\"\"\"\n",
    "\"\"\"\n",
    "Glossary mapping\n",
    "\"\"\"\n",
    "\n",
    "# LoanID               = Loan Identifier (A,P)\n",
    "# MonthRep             = Monthly Reporting Period (P)\n",
    "# Servicer             = Servicer Name (P)\n",
    "# CurrInterestRate     = CURRENT INTEREST RATE (P)\n",
    "# CAUPB                = CURRENT ACTUAL UNPAID PRINCIPAL BALANCE (P)\n",
    "# LoanAge              = Loan Age (P)\n",
    "# MonthsToMaturity     = Remaining Months to Legal Maturity (P)\n",
    "# AdMonthsToMaturity   = ADJUSTED REMAINING MONTHS TO MATURITY (P)\n",
    "# MaturityDate         = Maturity Date (P)\n",
    "# MSA                  = Metropolitan Statistical Area (P)\n",
    "# CLDS                 = Current Loan Delinquency Status (P)\n",
    "# ModFlag              = Modification Flag (P)\n",
    "# ZeroBalCode          = Zero Balance Code (P)\n",
    "# ZeroBalDate          = Zero Balance Effective Date(P)\n",
    "# LastInstallDate      = LAST PAID INSTALLMENT DATE\n",
    "# ForeclosureDate      = FORECLOSURE DATE\n",
    "# DispositionDate      = DISPOSITION DATE\n",
    "# ForeclosureCosts     = FORECLOSURE COSTS (P)\n",
    "# PPRC                 = Property Preservation and Repair Costs (P)\n",
    "# AssetRecCost         = ASSET RECOVERY COSTS (P)\n",
    "# MHEC                 = Miscellaneous Holding Expenses and Credits (P)\n",
    "# ATFHP                = Associated Taxes for Holding Property (P)\n",
    "# NetSaleProceeds      = Net Sale Proceeds (P)\n",
    "# CreditEnhProceeds    = Credit Enhancement Proceeds (P)\n",
    "# RPMWP                = Repurchase Make Whole Proceeds(P)\n",
    "# OFP                  = Other Foreclosure Proceeds (P)\n",
    "# NIBUPB               = Non-Interest Bearing UPB (P)\n",
    "# PFUPB                = PRINCIPAL FORGIVENESS UPB (P)\n",
    "# RMWPF                = Repurchase Make Whole Proceeds Flag (P)\n",
    "# FPWA                 = Foreclosure Principal Write-off Amount (P)\n",
    "# ServicingIndicator   = SERVICING ACTIVITY INDICATOR (P)\n",
    "\n",
    "\n",
    "\n",
    "# Import datasets, select features and define the default-flag collumn.\n",
    "col_per = ['LoanID', 'MonthRep', 'Servicer', 'CurrInterestRate', 'CAUPB', 'LoanAge', 'MonthsToMaturity',\n",
    "           'AdMonthsToMaturity', 'MaturityDate', 'MSA', 'CLDS', 'ModFlag', 'ZeroBalCode', 'ZeroBalDate',\n",
    "           'LastInstallDate', 'ForeclosureDate', 'DispositionDate', 'ForeclosureCosts', 'PPRC', 'AssetRecCost', 'MHEC',\n",
    "           'ATFHP', 'NetSaleProceeds', 'CreditEnhProceeds', 'RPMWP', 'OFP', 'NIBUPB', 'PFUPB', 'RMWPF',\n",
    "           'FPWA', 'ServicingIndicator']\n",
    "\n",
    "# Python will guess the datatypes not specified in the map function, for dates the dtype will be 'object'. (hence: here all dates)\n",
    "# If an expected integer variables contains NaN values it will be set to 'float32'\n",
    "perf_type_map = {'LoanID': 'int64', 'Servicer': 'category', 'CurrInterestRate': 'float32', 'CAUPB': 'float32',\n",
    "                 'LoanAge': 'int64', 'MonthsToMaturity': 'int64', 'AdMonthsToMaturity': 'float32', 'MSA': 'category',\n",
    "                 'CLDS': 'category', 'ModFlag': 'category', 'ZeroBalCode': 'float32', 'ForeclosureCosts': 'float32',\n",
    "                 'PPRC': 'float32', 'AssetRecCost': 'float32', 'MHEC': 'float32', 'ATFHP': 'float32',\n",
    "                 'NetSaleProceeds': 'float32', 'CreditEnhProceeds': 'float32', 'RPMWP': 'float32', 'OFP': 'float32',\n",
    "                 'NIBUPB': 'float32', 'PFUPB': 'float32', 'RMWPF': 'category', 'FPWA': 'float32',\n",
    "                 'ServicingIndicator': 'category'}"
   ]
  },
  {
   "cell_type": "markdown",
   "metadata": {},
   "source": [
    "Load All Data"
   ]
  },
  {
   "cell_type": "code",
   "execution_count": 16,
   "metadata": {},
   "outputs": [],
   "source": [
    "def read_file(file_name, ref_year, lines_to_read=None):\n",
    "    \"\"\"\n",
    "    Read file in function to avoid memory issues\n",
    "    + Add lagged payment variables\n",
    "    Parameters\n",
    "    ----------\n",
    "    file_name: Path name of the file;\n",
    "    ref_year: Specify the list of years to be read, if None-> whole dataset is used;\n",
    "    lines_to_read: Specify the number of rows of the dataset to be read.\n",
    "    Returns\n",
    "    -------\n",
    "    Raw performance dataframe\n",
    "    \"\"\"\n",
    "\n",
    "    df = pd.read_csv(file_name, sep='|', names=col_per, dtype=perf_type_map, usecols=col_per, index_col=False,\n",
    "                     nrows=lines_to_read)\n",
    "    \n",
    "    # Add lagged deliquincy payment value based on CLDS\n",
    "    df['CLDS'] = df.CLDS.replace('X', '1').astype('float')\n",
    "    df.loc[df.CLDS == 0.0, 'Arrears'] = 0\n",
    "    df.loc[df.CLDS != 0.0, 'Arrears'] = 1\n",
    "    df['Arrears_3m'] = df['Arrears'].rolling(min_periods=3, window=3).apply(\n",
    "        lambda x: x.sum() if x.sum() < 3 else 0, raw=True).astype('category')\n",
    "    df['Arrears_6m'] = df['Arrears'].rolling(min_periods=6, window=6).apply(\n",
    "        lambda x: x.sum() if x.sum() < 6 else 0, raw=True).astype('category')\n",
    "    df['Arrears_9m'] = df['Arrears'].rolling(min_periods=9, window=9).apply(\n",
    "        lambda x: x.sum() if x.sum() < 9 else 0, raw=True).astype('category')\n",
    "    df['Arrears_12m'] = df['Arrears'].rolling(min_periods=12, window=12).apply(\n",
    "        lambda x: x.sum() if x.sum() < 12 else 0, raw=True).astype('category')\n",
    "\n",
    "    return df"
   ]
  },
  {
   "cell_type": "code",
   "execution_count": null,
   "metadata": {},
   "outputs": [],
   "source": []
  },
  {
   "cell_type": "code",
   "execution_count": null,
   "metadata": {},
   "outputs": [],
   "source": []
  },
  {
   "cell_type": "code",
   "execution_count": null,
   "metadata": {},
   "outputs": [],
   "source": []
  },
  {
   "cell_type": "code",
   "execution_count": null,
   "metadata": {},
   "outputs": [],
   "source": []
  },
  {
   "cell_type": "code",
   "execution_count": null,
   "metadata": {},
   "outputs": [],
   "source": []
  },
  {
   "cell_type": "code",
   "execution_count": null,
   "metadata": {},
   "outputs": [],
   "source": []
  },
  {
   "cell_type": "markdown",
   "metadata": {},
   "source": [
    "MAIN"
   ]
  },
  {
   "cell_type": "code",
   "execution_count": 10,
   "metadata": {
    "scrolled": false
   },
   "outputs": [
    {
     "ename": "NameError",
     "evalue": "name 'pd' is not defined",
     "output_type": "error",
     "traceback": [
      "\u001b[1;31m---------------------------------------------------------------------------\u001b[0m",
      "\u001b[1;31mNameError\u001b[0m                                 Traceback (most recent call last)",
      "\u001b[1;32m<ipython-input-10-1d7cacfc6271>\u001b[0m in \u001b[0;36m<module>\u001b[1;34m()\u001b[0m\n\u001b[1;32m----> 1\u001b[1;33m \u001b[0mdf\u001b[0m \u001b[1;33m=\u001b[0m \u001b[0mpd\u001b[0m\u001b[1;33m.\u001b[0m\u001b[0mread_csv\u001b[0m\u001b[1;33m(\u001b[0m\u001b[1;34m'C:/Users/bebxadvberb/Documents/AI/Trusted AI/ML4Credit/PD/trainData.csv'\u001b[0m\u001b[1;33m,\u001b[0m \u001b[0msep\u001b[0m\u001b[1;33m=\u001b[0m\u001b[1;34m','\u001b[0m\u001b[1;33m,\u001b[0m \u001b[0mindex_col\u001b[0m\u001b[1;33m=\u001b[0m\u001b[1;36m0\u001b[0m\u001b[1;33m)\u001b[0m\u001b[1;33m\u001b[0m\u001b[0m\n\u001b[0m\u001b[0;32m      2\u001b[0m \u001b[0mdf\u001b[0m\u001b[1;33m.\u001b[0m\u001b[0mhead\u001b[0m\u001b[1;33m(\u001b[0m\u001b[1;33m)\u001b[0m\u001b[1;33m\u001b[0m\u001b[0m\n",
      "\u001b[1;31mNameError\u001b[0m: name 'pd' is not defined"
     ]
    }
   ],
   "source": [
    "df = pd.read_csv('C:/Users/bebxadvberb/Documents/AI/Trusted AI/ML4Credit/PD/trainData.csv', sep=',', index_col=0)\n",
    "df.head()"
   ]
  },
  {
   "cell_type": "code",
   "execution_count": 18,
   "metadata": {},
   "outputs": [
    {
     "name": "stderr",
     "output_type": "stream",
     "text": [
      "C:\\Users\\bebxadvberb\\AppData\\Local\\Continuum\\anaconda3\\lib\\site-packages\\IPython\\core\\interactiveshell.py:2903: DtypeWarning: Columns (14,15,16) have mixed types. Specify dtype option on import or set low_memory=False.\n",
      "  if self.run_code(code, result):\n"
     ]
    }
   ],
   "source": [
    "if __name__ == \"__main__\":\n",
    "    # Read the file Performance_HARP.txt: http://www.fanniemae.com/portal/funding-the-market/data/loan-performance-data.html\n",
    "    performance_frame = read_file(file_name='C:/Users/bebxadvberb/Documents/AI/Trusted AI/Performance_HARP.txt', ref_year=['2016', '2017', '2018'],\n",
    "                                  lines_to_read=1e5)"
   ]
  },
  {
   "cell_type": "code",
   "execution_count": null,
   "metadata": {},
   "outputs": [],
   "source": []
  },
  {
   "cell_type": "code",
   "execution_count": null,
   "metadata": {},
   "outputs": [],
   "source": []
  },
  {
   "cell_type": "code",
   "execution_count": null,
   "metadata": {},
   "outputs": [],
   "source": []
  },
  {
   "cell_type": "code",
   "execution_count": null,
   "metadata": {},
   "outputs": [],
   "source": []
  },
  {
   "cell_type": "code",
   "execution_count": null,
   "metadata": {},
   "outputs": [],
   "source": []
  },
  {
   "cell_type": "code",
   "execution_count": null,
   "metadata": {},
   "outputs": [],
   "source": []
  },
  {
   "cell_type": "code",
   "execution_count": null,
   "metadata": {},
   "outputs": [],
   "source": []
  },
  {
   "cell_type": "code",
   "execution_count": null,
   "metadata": {},
   "outputs": [],
   "source": []
  },
  {
   "cell_type": "code",
   "execution_count": null,
   "metadata": {},
   "outputs": [],
   "source": []
  },
  {
   "cell_type": "code",
   "execution_count": null,
   "metadata": {},
   "outputs": [],
   "source": []
  },
  {
   "cell_type": "code",
   "execution_count": null,
   "metadata": {},
   "outputs": [],
   "source": []
  },
  {
   "cell_type": "code",
   "execution_count": null,
   "metadata": {},
   "outputs": [],
   "source": []
  },
  {
   "cell_type": "code",
   "execution_count": null,
   "metadata": {},
   "outputs": [],
   "source": []
  },
  {
   "cell_type": "code",
   "execution_count": null,
   "metadata": {},
   "outputs": [],
   "source": []
  },
  {
   "cell_type": "code",
   "execution_count": null,
   "metadata": {},
   "outputs": [],
   "source": []
  },
  {
   "cell_type": "code",
   "execution_count": null,
   "metadata": {},
   "outputs": [],
   "source": []
  },
  {
   "cell_type": "code",
   "execution_count": 16,
   "metadata": {},
   "outputs": [],
   "source": []
  },
  {
   "cell_type": "code",
   "execution_count": 17,
   "metadata": {},
   "outputs": [],
   "source": []
  },
  {
   "cell_type": "code",
   "execution_count": null,
   "metadata": {},
   "outputs": [],
   "source": []
  },
  {
   "cell_type": "code",
   "execution_count": null,
   "metadata": {},
   "outputs": [],
   "source": []
  },
  {
   "cell_type": "code",
   "execution_count": null,
   "metadata": {},
   "outputs": [],
   "source": []
  },
  {
   "cell_type": "code",
   "execution_count": null,
   "metadata": {},
   "outputs": [],
   "source": []
  }
 ],
 "metadata": {
  "kernelspec": {
   "display_name": "Python 3",
   "language": "python",
   "name": "python3"
  },
  "language_info": {
   "codemirror_mode": {
    "name": "ipython",
    "version": 3
   },
   "file_extension": ".py",
   "mimetype": "text/x-python",
   "name": "python",
   "nbconvert_exporter": "python",
   "pygments_lexer": "ipython3",
   "version": "3.6.5"
  }
 },
 "nbformat": 4,
 "nbformat_minor": 2
}
