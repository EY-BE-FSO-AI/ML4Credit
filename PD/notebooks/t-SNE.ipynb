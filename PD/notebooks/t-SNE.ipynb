{
 "cells": [
  {
   "cell_type": "markdown",
   "metadata": {},
   "source": [
    "Import All Packages"
   ]
  },
  {
   "cell_type": "code",
   "execution_count": 11,
   "metadata": {},
   "outputs": [],
   "source": [
    "import pandas as pd\n",
    "import numpy as np\n",
    "\n",
    "import warnings # current version of seaborn generates a bunch of warnings that we'll ignore\n",
    "warnings.filterwarnings(\"ignore\")\n",
    "import seaborn as sns\n",
    "\n",
    "import matplotlib.pyplot as plt\n",
    "sns.set(style=\"white\", color_codes=True)\n",
    "from matplotlib.pyplot import cm\n",
    "%matplotlib inline\n",
    "\n",
    "from sklearn.manifold import TSNE\n",
    "\n",
    "from sklearn.preprocessing import LabelEncoder"
   ]
  },
  {
   "cell_type": "markdown",
   "metadata": {},
   "source": [
    "Load All Data"
   ]
  },
  {
   "cell_type": "code",
   "execution_count": 102,
   "metadata": {},
   "outputs": [],
   "source": [
    "def load_data(maxLines):\n",
    "\n",
    "    #  The features of Acquisition file\n",
    "    col_acq = ['LoanID', 'Channel', 'SellerName', 'OrInterestRate', 'OrUnpaidPrinc', 'OrLoanTerm',\n",
    "               'OrDate', 'FirstPayment', 'OrLTV', 'OrCLTV', 'NumBorrow', 'DTIRat', 'CreditScore',\n",
    "               'FTHomeBuyer', 'LoanPurpose', 'PropertyType', 'NumUnits', 'OccStatus', 'PropertyState',\n",
    "               'Zip', 'MortInsPerc', 'ProductType', 'CoCreditScore', 'MortInsType', 'RelMortInd']\n",
    "\n",
    "    #  The features of Performance file\n",
    "    col_per = ['LoanID', 'MonthRep', 'Servicer', 'CurrInterestRate', 'CAUPB', 'LoanAge', 'MonthsToMaturity',\n",
    "               'AdMonthsToMaturity', 'MaturityDate', 'MSA', 'CLDS', 'ModFlag', 'ZeroBalCode', 'ZeroBalDate',\n",
    "               'LastInstallDate', 'ForeclosureDate', 'DispositionDate', 'PPRC', 'AssetRecCost', 'MHRC',\n",
    "               'ATFHP', 'NetSaleProceeds', 'CreditEnhProceeds', 'RPMWP', 'OFP', 'NIBUPB', 'PFUPB', 'RMWPF',\n",
    "               'FPWA', 'ServicingIndicator']\n",
    "\n",
    "    linesToRead = maxLines\n",
    "\n",
    "    aquisition_frame = pd.read_csv('C:/Users/bebxadvberb/Documents/AI/Trusted AI/Acquisition_2007Q4.txt', sep='|', names=col_acq, nrows= linesToRead)\n",
    "    performance_frame = pd.read_csv('C:/Users/bebxadvberb/Documents/AI/Trusted AI/Performance_2007Q4.txt', sep='|', names=col_per, index_col=False, nrows = linesToRead)\n",
    "\n",
    "    # performance_frame.drop_duplicates(subset='LoanID', keep='last', inplace=True)\n",
    "\n",
    "    # Merge the two DF's together using inner join\n",
    "    df = pd.merge(aquisition_frame, performance_frame, on = 'LoanID', how='inner')\n",
    "    \n",
    "    return df"
   ]
  },
  {
   "cell_type": "code",
   "execution_count": null,
   "metadata": {},
   "outputs": [],
   "source": []
  },
  {
   "cell_type": "code",
   "execution_count": 4,
   "metadata": {},
   "outputs": [],
   "source": [
    "def make_target_var(df):\n",
    "    df.rename(index=str, columns={'ForeclosureDate': 'Default'}, inplace= True)\n",
    "    df['Default'].fillna(0, inplace=True)\n",
    "    df.loc[df['Default'] != 0, 'Default'] = 1"
   ]
  },
  {
   "cell_type": "code",
   "execution_count": 24,
   "metadata": {},
   "outputs": [],
   "source": [
    "def get_na_columns(df):\n",
    "    na_columns = df.columns[df.isnull().any()]\n",
    "    return na_columns"
   ]
  },
  {
   "cell_type": "code",
   "execution_count": null,
   "metadata": {},
   "outputs": [],
   "source": [
    "def get_cat_feat(df):\n",
    "    cat_feat = df.select_dtypes(include=['object']).columns\n",
    "    return cat_feat\n",
    "\n",
    "def get_num_feat(df):\n",
    "    num_feat = df.select_dtypes(exclude=['object']).columns\n",
    "    return num_feat"
   ]
  },
  {
   "cell_type": "code",
   "execution_count": 60,
   "metadata": {},
   "outputs": [],
   "source": [
    "def normalize(df):\n",
    "    df_norm = df\n",
    "    df_norm = df_norm.apply(lambda x: (x - x.min()) / (x.max() - x.min()))\n",
    "    return df_norm"
   ]
  },
  {
   "cell_type": "code",
   "execution_count": 20,
   "metadata": {},
   "outputs": [],
   "source": [
    "def makeDateNumeric(text):\n",
    "    numMonths = int(text[:2])\n",
    "    numYears = int(text[3:7])\n",
    "    result = (numYears - 2000) * 12 + numMonths\n",
    "    return result\n",
    "\n",
    "\n",
    "def makeDayNumeric(text):\n",
    "    numMonths = int(text[:2])\n",
    "    numYears = int(text[6:10])\n",
    "    result = (numYears - 2000) * 12 + numMonths\n",
    "    return result\n",
    "\n",
    "def make_dates_numeric(df):\n",
    "    # TRANSFORM DATES TO NUMBER OF MONTHS (STARTING FROM 01/2000)\n",
    "    df['MonthRep'] = df['MonthRep'].apply(makeDayNumeric)\n",
    "    df['OrDate'] = df['OrDate'].apply(makeDateNumeric)\n",
    "    df['FirstPayment'] = df['FirstPayment'].apply(makeDateNumeric)\n",
    "    df['MaturityDate'] = df['MaturityDate'].apply(makeDateNumeric)"
   ]
  },
  {
   "cell_type": "code",
   "execution_count": 36,
   "metadata": {},
   "outputs": [],
   "source": [
    "def to_2D(df):\n",
    "        # TSNE - Dimentionality reduction\n",
    "    print ('Training T-SNE ...')\n",
    "\n",
    "    tsne = TSNE(n_components=2, random_state=1, n_iter=250, verbose=1)\n",
    "    df_2D = tsne.fit_transform(df)\n",
    "    df_2D = pd.DataFrame(df_2D)\n",
    "    return df_2D"
   ]
  },
  {
   "cell_type": "code",
   "execution_count": 56,
   "metadata": {},
   "outputs": [],
   "source": [
    "def tsne_visual(df, df_2D):   \n",
    "    #Making plot\n",
    "    plt.figure(figsize=(20,10))\n",
    "    color = cm.rainbow(np.linspace(0,1, max(map(abs, set(df['Default'])))+1))\n",
    "    for i in range(0, len(df_2D)):\n",
    "        c1 = plt.scatter(df_2D.iloc[i][0], \n",
    "                         df_2D.iloc[i][1],\n",
    "                     c = color[int(df.iloc[i]['Default'])],\n",
    "                     marker=r\"$ {} $\".format(int(df.iloc[i]['Default'])), s=150, edgecolors='none')\n",
    "\n",
    "    plt.xlabel('T-SNE Dim 1')\n",
    "    plt.ylabel('T-SNE Dim 2')\n",
    "    plt.title('Actives')\n",
    "    plt.legend(loc='best')\n",
    "    plt.grid(True)\n",
    "    plt.savefig('Actives' + '.pdf', format='pdf', dpi=900)\n",
    "    plt.show()"
   ]
  },
  {
   "cell_type": "code",
   "execution_count": null,
   "metadata": {},
   "outputs": [],
   "source": []
  },
  {
   "cell_type": "markdown",
   "metadata": {},
   "source": [
    "MAIN"
   ]
  },
  {
   "cell_type": "code",
   "execution_count": null,
   "metadata": {},
   "outputs": [
    {
     "name": "stdout",
     "output_type": "stream",
     "text": [
      "Na Columns\n",
      "Index(['DTIRat', 'MortInsPerc', 'CoCreditScore', 'MortInsType', 'Servicer',\n",
      "       'CAUPB', 'AdMonthsToMaturity', 'CLDS', 'ZeroBalCode', 'ZeroBalDate',\n",
      "       'LastInstallDate', 'DispositionDate', 'PPRC', 'AssetRecCost', 'MHRC',\n",
      "       'ATFHP', 'NetSaleProceeds', 'CreditEnhProceeds', 'RPMWP', 'OFP',\n",
      "       'NIBUPB', 'PFUPB', 'RMWPF', 'FPWA', 'ServicingIndicator'],\n",
      "      dtype='object')\n",
      "Training T-SNE ...\n",
      "[t-SNE] Computing 91 nearest neighbors...\n",
      "[t-SNE] Indexed 99939 samples in 0.609s...\n",
      "[t-SNE] Computed neighbors for 99939 samples in 10.671s...\n",
      "[t-SNE] Computed conditional probabilities for sample 1000 / 99939\n",
      "[t-SNE] Computed conditional probabilities for sample 2000 / 99939\n",
      "[t-SNE] Computed conditional probabilities for sample 3000 / 99939\n",
      "[t-SNE] Computed conditional probabilities for sample 4000 / 99939\n",
      "[t-SNE] Computed conditional probabilities for sample 5000 / 99939\n",
      "[t-SNE] Computed conditional probabilities for sample 6000 / 99939\n",
      "[t-SNE] Computed conditional probabilities for sample 7000 / 99939\n",
      "[t-SNE] Computed conditional probabilities for sample 8000 / 99939\n",
      "[t-SNE] Computed conditional probabilities for sample 9000 / 99939\n",
      "[t-SNE] Computed conditional probabilities for sample 10000 / 99939\n",
      "[t-SNE] Computed conditional probabilities for sample 11000 / 99939\n",
      "[t-SNE] Computed conditional probabilities for sample 12000 / 99939\n",
      "[t-SNE] Computed conditional probabilities for sample 13000 / 99939\n",
      "[t-SNE] Computed conditional probabilities for sample 14000 / 99939\n",
      "[t-SNE] Computed conditional probabilities for sample 15000 / 99939\n",
      "[t-SNE] Computed conditional probabilities for sample 16000 / 99939\n",
      "[t-SNE] Computed conditional probabilities for sample 17000 / 99939\n",
      "[t-SNE] Computed conditional probabilities for sample 18000 / 99939\n",
      "[t-SNE] Computed conditional probabilities for sample 19000 / 99939\n",
      "[t-SNE] Computed conditional probabilities for sample 20000 / 99939\n",
      "[t-SNE] Computed conditional probabilities for sample 21000 / 99939\n",
      "[t-SNE] Computed conditional probabilities for sample 22000 / 99939\n",
      "[t-SNE] Computed conditional probabilities for sample 23000 / 99939\n",
      "[t-SNE] Computed conditional probabilities for sample 24000 / 99939\n",
      "[t-SNE] Computed conditional probabilities for sample 25000 / 99939\n",
      "[t-SNE] Computed conditional probabilities for sample 26000 / 99939\n",
      "[t-SNE] Computed conditional probabilities for sample 27000 / 99939\n",
      "[t-SNE] Computed conditional probabilities for sample 28000 / 99939\n",
      "[t-SNE] Computed conditional probabilities for sample 29000 / 99939\n",
      "[t-SNE] Computed conditional probabilities for sample 30000 / 99939\n",
      "[t-SNE] Computed conditional probabilities for sample 31000 / 99939\n",
      "[t-SNE] Computed conditional probabilities for sample 32000 / 99939\n",
      "[t-SNE] Computed conditional probabilities for sample 33000 / 99939\n",
      "[t-SNE] Computed conditional probabilities for sample 34000 / 99939\n",
      "[t-SNE] Computed conditional probabilities for sample 35000 / 99939\n",
      "[t-SNE] Computed conditional probabilities for sample 36000 / 99939\n",
      "[t-SNE] Computed conditional probabilities for sample 37000 / 99939\n",
      "[t-SNE] Computed conditional probabilities for sample 38000 / 99939\n",
      "[t-SNE] Computed conditional probabilities for sample 39000 / 99939\n",
      "[t-SNE] Computed conditional probabilities for sample 40000 / 99939\n",
      "[t-SNE] Computed conditional probabilities for sample 41000 / 99939\n",
      "[t-SNE] Computed conditional probabilities for sample 42000 / 99939\n",
      "[t-SNE] Computed conditional probabilities for sample 43000 / 99939\n",
      "[t-SNE] Computed conditional probabilities for sample 44000 / 99939\n",
      "[t-SNE] Computed conditional probabilities for sample 45000 / 99939\n",
      "[t-SNE] Computed conditional probabilities for sample 46000 / 99939\n",
      "[t-SNE] Computed conditional probabilities for sample 47000 / 99939\n",
      "[t-SNE] Computed conditional probabilities for sample 48000 / 99939\n",
      "[t-SNE] Computed conditional probabilities for sample 49000 / 99939\n",
      "[t-SNE] Computed conditional probabilities for sample 50000 / 99939\n",
      "[t-SNE] Computed conditional probabilities for sample 51000 / 99939\n",
      "[t-SNE] Computed conditional probabilities for sample 52000 / 99939\n",
      "[t-SNE] Computed conditional probabilities for sample 53000 / 99939\n",
      "[t-SNE] Computed conditional probabilities for sample 54000 / 99939\n",
      "[t-SNE] Computed conditional probabilities for sample 55000 / 99939\n",
      "[t-SNE] Computed conditional probabilities for sample 56000 / 99939\n",
      "[t-SNE] Computed conditional probabilities for sample 57000 / 99939\n",
      "[t-SNE] Computed conditional probabilities for sample 58000 / 99939\n",
      "[t-SNE] Computed conditional probabilities for sample 59000 / 99939\n",
      "[t-SNE] Computed conditional probabilities for sample 60000 / 99939\n",
      "[t-SNE] Computed conditional probabilities for sample 61000 / 99939\n",
      "[t-SNE] Computed conditional probabilities for sample 62000 / 99939\n",
      "[t-SNE] Computed conditional probabilities for sample 63000 / 99939\n",
      "[t-SNE] Computed conditional probabilities for sample 64000 / 99939\n",
      "[t-SNE] Computed conditional probabilities for sample 65000 / 99939\n",
      "[t-SNE] Computed conditional probabilities for sample 66000 / 99939\n",
      "[t-SNE] Computed conditional probabilities for sample 67000 / 99939\n",
      "[t-SNE] Computed conditional probabilities for sample 68000 / 99939\n",
      "[t-SNE] Computed conditional probabilities for sample 69000 / 99939\n",
      "[t-SNE] Computed conditional probabilities for sample 70000 / 99939\n",
      "[t-SNE] Computed conditional probabilities for sample 71000 / 99939\n",
      "[t-SNE] Computed conditional probabilities for sample 72000 / 99939\n",
      "[t-SNE] Computed conditional probabilities for sample 73000 / 99939\n",
      "[t-SNE] Computed conditional probabilities for sample 74000 / 99939\n",
      "[t-SNE] Computed conditional probabilities for sample 75000 / 99939\n",
      "[t-SNE] Computed conditional probabilities for sample 76000 / 99939\n",
      "[t-SNE] Computed conditional probabilities for sample 77000 / 99939\n",
      "[t-SNE] Computed conditional probabilities for sample 78000 / 99939\n",
      "[t-SNE] Computed conditional probabilities for sample 79000 / 99939\n",
      "[t-SNE] Computed conditional probabilities for sample 80000 / 99939\n",
      "[t-SNE] Computed conditional probabilities for sample 81000 / 99939\n",
      "[t-SNE] Computed conditional probabilities for sample 82000 / 99939\n",
      "[t-SNE] Computed conditional probabilities for sample 83000 / 99939\n",
      "[t-SNE] Computed conditional probabilities for sample 84000 / 99939\n",
      "[t-SNE] Computed conditional probabilities for sample 85000 / 99939\n",
      "[t-SNE] Computed conditional probabilities for sample 86000 / 99939\n",
      "[t-SNE] Computed conditional probabilities for sample 87000 / 99939\n",
      "[t-SNE] Computed conditional probabilities for sample 88000 / 99939\n",
      "[t-SNE] Computed conditional probabilities for sample 89000 / 99939\n",
      "[t-SNE] Computed conditional probabilities for sample 90000 / 99939\n",
      "[t-SNE] Computed conditional probabilities for sample 91000 / 99939\n",
      "[t-SNE] Computed conditional probabilities for sample 92000 / 99939\n",
      "[t-SNE] Computed conditional probabilities for sample 93000 / 99939\n",
      "[t-SNE] Computed conditional probabilities for sample 94000 / 99939\n",
      "[t-SNE] Computed conditional probabilities for sample 95000 / 99939\n",
      "[t-SNE] Computed conditional probabilities for sample 96000 / 99939\n",
      "[t-SNE] Computed conditional probabilities for sample 97000 / 99939\n",
      "[t-SNE] Computed conditional probabilities for sample 98000 / 99939\n",
      "[t-SNE] Computed conditional probabilities for sample 99000 / 99939\n",
      "[t-SNE] Computed conditional probabilities for sample 99939 / 99939\n",
      "[t-SNE] Mean sigma: 2.084713\n"
     ]
    }
   ],
   "source": [
    "df = load_data(100000)\n",
    "make_target_var(df)\n",
    "# make_dates_numeric(df)\n",
    "\n",
    "\n",
    "df = df[pd.notnull(df['CreditScore'])]\n",
    "# df = df[pd.notnull(df['CLDS'])]\n",
    "\n",
    "\n",
    "na_columns = get_na_columns(df)\n",
    "print(\"Na Columns\")\n",
    "print(na_columns)\n",
    "df = df.drop(na_columns,axis=1)\n",
    "\n",
    "cat_feat = get_cat_feat(df)\n",
    "cat_data = df[cat_feat]\n",
    "cat_data = cat_data.apply(LabelEncoder().fit_transform)\n",
    "\n",
    "num_feat = get_num_feat(df)\n",
    "num_data = normalize(df[num_feat])\n",
    "\n",
    "df = pd.concat([num_data, cat_data], axis=1)\n",
    "\n",
    "\n",
    "df_2D = to_2D(df)\n",
    "tsne_visual(df,df_2D)"
   ]
  },
  {
   "cell_type": "code",
   "execution_count": null,
   "metadata": {},
   "outputs": [],
   "source": []
  },
  {
   "cell_type": "markdown",
   "metadata": {},
   "source": [
    "MAIN 2"
   ]
  },
  {
   "cell_type": "code",
   "execution_count": 89,
   "metadata": {},
   "outputs": [
    {
     "data": {
      "text/plain": [
       "array(['0', 'X', '1', '2', '3', '4', '5', '6', '7', '8', '9', '10', '11',\n",
       "       '12', '13', '14', '15', '16', '17'], dtype=object)"
      ]
     },
     "execution_count": 89,
     "metadata": {},
     "output_type": "execute_result"
    }
   ],
   "source": [
    "df = load_data()\n",
    "make_target_var(df)\n",
    "# make_dates_numeric(df)\n",
    "\n",
    "df = df[pd.notnull(df['CLDS'])]\n",
    "\n",
    "df.CLDS.unique()"
   ]
  },
  {
   "cell_type": "code",
   "execution_count": null,
   "metadata": {},
   "outputs": [],
   "source": []
  },
  {
   "cell_type": "code",
   "execution_count": null,
   "metadata": {},
   "outputs": [],
   "source": []
  },
  {
   "cell_type": "code",
   "execution_count": null,
   "metadata": {},
   "outputs": [],
   "source": []
  },
  {
   "cell_type": "code",
   "execution_count": 22,
   "metadata": {},
   "outputs": [],
   "source": []
  },
  {
   "cell_type": "code",
   "execution_count": 17,
   "metadata": {},
   "outputs": [],
   "source": []
  },
  {
   "cell_type": "code",
   "execution_count": 18,
   "metadata": {},
   "outputs": [],
   "source": []
  },
  {
   "cell_type": "code",
   "execution_count": null,
   "metadata": {},
   "outputs": [],
   "source": []
  },
  {
   "cell_type": "code",
   "execution_count": null,
   "metadata": {},
   "outputs": [],
   "source": []
  },
  {
   "cell_type": "code",
   "execution_count": null,
   "metadata": {},
   "outputs": [],
   "source": []
  },
  {
   "cell_type": "code",
   "execution_count": null,
   "metadata": {},
   "outputs": [],
   "source": []
  },
  {
   "cell_type": "code",
   "execution_count": null,
   "metadata": {},
   "outputs": [],
   "source": []
  },
  {
   "cell_type": "code",
   "execution_count": null,
   "metadata": {},
   "outputs": [],
   "source": []
  },
  {
   "cell_type": "code",
   "execution_count": null,
   "metadata": {},
   "outputs": [],
   "source": []
  },
  {
   "cell_type": "code",
   "execution_count": null,
   "metadata": {},
   "outputs": [],
   "source": []
  },
  {
   "cell_type": "code",
   "execution_count": null,
   "metadata": {},
   "outputs": [],
   "source": []
  },
  {
   "cell_type": "code",
   "execution_count": null,
   "metadata": {},
   "outputs": [],
   "source": []
  },
  {
   "cell_type": "code",
   "execution_count": null,
   "metadata": {},
   "outputs": [],
   "source": []
  },
  {
   "cell_type": "code",
   "execution_count": null,
   "metadata": {},
   "outputs": [],
   "source": []
  }
 ],
 "metadata": {
  "kernelspec": {
   "display_name": "Python 3",
   "language": "python",
   "name": "python3"
  },
  "language_info": {
   "codemirror_mode": {
    "name": "ipython",
    "version": 3
   },
   "file_extension": ".py",
   "mimetype": "text/x-python",
   "name": "python",
   "nbconvert_exporter": "python",
   "pygments_lexer": "ipython3",
   "version": "3.6.5"
  }
 },
 "nbformat": 4,
 "nbformat_minor": 2
}
