{
 "cells": [
  {
   "cell_type": "markdown",
   "metadata": {},
   "source": [
    "Import All Packages"
   ]
  },
  {
   "cell_type": "code",
   "execution_count": 2,
   "metadata": {},
   "outputs": [],
   "source": [
    "import pandas as pd\n",
    "import numpy as np\n",
    "import time\n",
    "\n",
    "import warnings # current version of seaborn generates a bunch of warnings that we'll ignore\n",
    "warnings.filterwarnings(\"ignore\")\n",
    "import seaborn as sns\n",
    "\n",
    "import matplotlib.pyplot as plt\n",
    "sns.set(style=\"white\", color_codes=True)\n",
    "from matplotlib.pyplot import cm\n",
    "%matplotlib inline\n",
    "\n",
    "from sklearn.manifold import TSNE\n",
    "\n",
    "from sklearn.preprocessing import LabelEncoder\n",
    "from sklearn import preprocessing\n",
    "import xgboost as xgb\n",
    "from sklearn.cross_validation import train_test_split\n",
    "from sklearn.model_selection import StratifiedKFold\n",
    "import sklearn.metrics\n",
    "# from sklearn.metrics import balanced_accuracy_score\n",
    "\n",
    "from sklearn.metrics import roc_auc_score, accuracy_score, roc_curve, f1_score, average_precision_score\n",
    "from sklearn.metrics import classification_report, confusion_matrix\n",
    "from imblearn.over_sampling import SMOTE\n",
    "\n",
    "\n",
    "from sklearn.preprocessing import OneHotEncoder\n"
   ]
  },
  {
   "cell_type": "markdown",
   "metadata": {},
   "source": [
    "Load All Data"
   ]
  },
  {
   "cell_type": "code",
   "execution_count": 3,
   "metadata": {},
   "outputs": [],
   "source": [
    "def load_data(maxLines, duplicates):\n",
    "\n",
    "    \"\"\"\n",
    "        Import datasets, select features and define the default-flag collumn.\n",
    "    \"\"\"\n",
    "    \n",
    "    col_acq = ['LoanID','Channel','SellerName','OrInterestRate','OrUnpaidPrinc','OrLoanTerm',\n",
    "            'OrDate','FirstPayment','OrLTV','OrCLTV','NumBorrow','DTIRat','CreditScore',\n",
    "            'FTHomeBuyer','LoanPurpose','PropertyType','NumUnits','OccStatus','PropertyState',\n",
    "            'Zip','MortInsPerc','ProductType','CoCreditScore','MortInsType','RelMortInd']\n",
    "    \n",
    "    extended_selec_acq = ['LoanID', 'OrLTV', 'LoanPurpose', 'DTIRat', 'PropertyType', 'FTHomeBuyer', 'Channel', 'SellerName','OrInterestRate', 'CreditScore', 'NumBorrow', 'OrDate'] \n",
    "    col_acq_subset = extended_selec_acq \n",
    "    \n",
    "    col_per = ['LoanID','MonthRep','Servicer','CurrInterestRate','CAUPB','LoanAge','MonthsToMaturity',\n",
    "              'AdMonthsToMaturity','MaturityDate','MSA','CLDS','ModFlag','ZeroBalCode','ZeroBalDate',\n",
    "              'LastInstallDate','ForeclosureDate','DispositionDate','PPRC','AssetRecCost','MHRC',\n",
    "              'ATFHP','NetSaleProceeds','CreditEnhProceeds','RPMWP','OFP','NIBUPB','PFUPB','RMWPF',\n",
    "              'FPWA','ServicingIndicator'] \n",
    "    \n",
    "    extended_selec_per = ['LoanID', 'MonthsToMaturity', 'CurrInterestRate', 'ForeclosureDate', 'LoanAge', 'CLDS', 'MaturityDate','ZeroBalCode', 'MonthRep']\n",
    "    \n",
    "    col_per_subset =  extended_selec_per \n",
    "    \n",
    "    lines_to_read = maxLines\n",
    "    aquisition_frame = pd.read_csv('C:/Users/bebxadvberb/Documents/AI/Trusted AI/Acquisition_2007Q4.txt', sep='|', names=col_acq, usecols=col_acq_subset, index_col=False, nrows=lines_to_read )\n",
    "    performance_frame = pd.read_csv('C:/Users/bebxadvberb/Documents/AI/Trusted AI/Performance_2007Q4.txt', sep='|', names=col_per, usecols=col_per_subset, index_col=False, nrows=lines_to_read) \n",
    "\n",
    "    \"\"\" Fix the IDs in the observation set by fixing their reporting date AND requiring that the files are healthy. \"\"\"\n",
    "    \n",
    "    observation_frame = performance_frame[(performance_frame.MonthRep == '12/01/2017') & \n",
    "                                (   (performance_frame.CLDS == '0') | \n",
    "                                    (performance_frame.CLDS == '1') | \n",
    "                                    (performance_frame.CLDS == '2')\n",
    "                                )\n",
    "                                ]\n",
    "    obs_ids = observation_frame.LoanID\n",
    "    \n",
    "    \"\"\" Load only the observation IDs in the performance frame initially. \"\"\"\n",
    "    pf = performance_frame[performance_frame.LoanID.isin(obs_ids)]\n",
    "    \n",
    "    \"\"\" Keep only the reporting dates that are in our performance period (MM/DD/YYYY format). \"\"\"\n",
    "    pf_obs = pf[\n",
    "                    (pf.MonthRep == '01/01/2018') | \n",
    "                    (pf.MonthRep == '02/01/2018') |\n",
    "                    (pf.MonthRep == '03/01/2018') |\n",
    "                    (pf.MonthRep == '04/01/2018') |\n",
    "                    (pf.MonthRep == '05/01/2018') |\n",
    "                    (pf.MonthRep == '06/01/2018') |\n",
    "                    (pf.MonthRep == '07/01/2018') |\n",
    "                    (pf.MonthRep == '08/01/2018') |\n",
    "                    (pf.MonthRep == '09/01/2018') |\n",
    "                    (pf.MonthRep == '10/01/2018') |\n",
    "                    (pf.MonthRep == '11/01/2018') |\n",
    "                    (pf.MonthRep == '12/01/2018') \n",
    "                ]\n",
    "    \n",
    "    \"\"\" \n",
    "    Find the LoanIDs of those loans where a default appears in our performance period.\n",
    "    \"\"\"\n",
    "    pf_obs_defaults = pf_obs[\n",
    "                            (pf_obs.CLDS != '0') &\n",
    "                            (pf_obs.CLDS != '1') &\n",
    "                            (pf_obs.CLDS != '2') &\n",
    "                            (pf_obs.CLDS != 'X')\n",
    "                        ].LoanID\n",
    "    \n",
    "    pf_obs_defaults.drop_duplicates(keep='last', inplace=True)\n",
    "    \n",
    "    \"\"\" Merge the acquisition and performance frames. \"\"\"\n",
    "    df = pd.merge(aquisition_frame, observation_frame, on = 'LoanID', how='inner')\n",
    "    \n",
    "    df['Default'] = 0\n",
    "    df.loc[df['LoanID'].isin(pf_obs_defaults), 'Default'] = 1\n",
    "    \n",
    "    \n",
    "    return df"
   ]
  },
  {
   "cell_type": "code",
   "execution_count": 4,
   "metadata": {},
   "outputs": [],
   "source": [
    "def label_encode(df):\n",
    "    df = df.apply(LabelEncoder().fit_transform)\n",
    "    return df"
   ]
  },
  {
   "cell_type": "code",
   "execution_count": 5,
   "metadata": {},
   "outputs": [],
   "source": [
    "def one_hot_encode(df):\n",
    "    enc = OneHotEncoder(handle_unknown='ignore')\n",
    "    df = enc.transform(df)\n",
    "    return df"
   ]
  },
  {
   "cell_type": "code",
   "execution_count": 6,
   "metadata": {},
   "outputs": [],
   "source": [
    "def get_na_columns(df):\n",
    "    na_columns = df.columns[df.isnull().any()]\n",
    "    return na_columns"
   ]
  },
  {
   "cell_type": "code",
   "execution_count": 7,
   "metadata": {},
   "outputs": [],
   "source": [
    "def get_cat_feat(df):\n",
    "    cat_feat = df.select_dtypes(include=['object']).columns\n",
    "    return cat_feat\n",
    "\n",
    "def get_num_feat(df):\n",
    "    num_feat = df.select_dtypes(exclude=['object']).columns\n",
    "    return num_feat"
   ]
  },
  {
   "cell_type": "code",
   "execution_count": 8,
   "metadata": {},
   "outputs": [],
   "source": [
    "def normalize(df):\n",
    "    df_norm = df\n",
    "    df_norm = df_norm.apply(lambda x: (x - x.min()) / (x.max() - x.min()))\n",
    "    return df_norm"
   ]
  },
  {
   "cell_type": "code",
   "execution_count": 9,
   "metadata": {},
   "outputs": [],
   "source": [
    "def makeDateNumeric(text):\n",
    "    numMonths = int(text[:2])\n",
    "    numYears = int(text[3:7])\n",
    "    result = (numYears - 2000) * 12 + numMonths\n",
    "    return result\n",
    "\n",
    "\n",
    "def makeDayNumeric(text):\n",
    "    numMonths = int(text[:2])\n",
    "    numYears = int(text[6:10])\n",
    "    result = (numYears - 2000) * 12 + numMonths\n",
    "    return result\n",
    "\n",
    "def make_dates_numeric(df):\n",
    "    # TRANSFORM DATES TO NUMBER OF MONTHS (STARTING FROM 01/2000)\n",
    "    df['MonthRep'] = df['MonthRep'].apply(makeDayNumeric)\n",
    "    df['OrDate'] = df['OrDate'].apply(makeDateNumeric)\n",
    "    df['FirstPayment'] = df['FirstPayment'].apply(makeDateNumeric)\n",
    "    df['MaturityDate'] = df['MaturityDate'].apply(makeDateNumeric)"
   ]
  },
  {
   "cell_type": "code",
   "execution_count": 10,
   "metadata": {},
   "outputs": [],
   "source": [
    "def to_2D(df):\n",
    "        # TSNE - Dimentionality reduction\n",
    "    print ('Training T-SNE ...')\n",
    "\n",
    "    tsne = TSNE(n_components=2, random_state=1, n_iter=250, verbose=1)\n",
    "    df_2D = tsne.fit_transform(df)\n",
    "    df_2D = pd.DataFrame(df_2D)\n",
    "    return df_2D"
   ]
  },
  {
   "cell_type": "code",
   "execution_count": 11,
   "metadata": {},
   "outputs": [],
   "source": [
    "def tsne_visual(df):   \n",
    "        # TSNE - Dimentionality reduction\n",
    "    print ('Training T-SNE ...')\n",
    "\n",
    "    tsne = TSNE(n_components=2, random_state=1, n_iter=250, verbose=1)\n",
    "    df_2D = tsne.fit_transform(df.drop('Default', axis=1))\n",
    "    df_2D = pd.DataFrame(df_2D)\n",
    "    \n",
    "    \n",
    "    #Making plot\n",
    "    plt.figure(figsize=(20,10))\n",
    "    color = cm.rainbow(np.linspace(0,1, max(map(abs, set(df['Default'])))+1))\n",
    "    for i in range(0, len(df_2D)):\n",
    "        c1 = plt.scatter(df_2D.iloc[i][0], \n",
    "                         df_2D.iloc[i][1],\n",
    "                     c = color[int(df.iloc[i]['Default'])],\n",
    "                     marker=r\"$ {} $\".format(int(df.iloc[i]['Default'])), s=150, edgecolors='none')\n",
    "\n",
    "    plt.xlabel('T-SNE Dim 1')\n",
    "    plt.ylabel('T-SNE Dim 2')\n",
    "    plt.title('Actives')\n",
    "    plt.legend(loc='best')\n",
    "    plt.grid(True)\n",
    "    plt.savefig('Actives' + '.pdf', format='pdf', dpi=900)\n",
    "    plt.show()"
   ]
  },
  {
   "cell_type": "code",
   "execution_count": null,
   "metadata": {},
   "outputs": [],
   "source": []
  },
  {
   "cell_type": "markdown",
   "metadata": {},
   "source": [
    "MAIN"
   ]
  },
  {
   "cell_type": "code",
   "execution_count": null,
   "metadata": {
    "scrolled": false
   },
   "outputs": [],
   "source": []
  },
  {
   "cell_type": "code",
   "execution_count": null,
   "metadata": {},
   "outputs": [],
   "source": []
  },
  {
   "cell_type": "code",
   "execution_count": 21,
   "metadata": {},
   "outputs": [
    {
     "name": "stdout",
     "output_type": "stream",
     "text": [
      "Index(['Channel', 'SellerName', 'OrDate', 'FTHomeBuyer', 'LoanPurpose',\n",
      "       'PropertyType', 'MonthRep', 'MaturityDate'],\n",
      "      dtype='object')\n",
      "Index(['OrInterestRate', 'OrLTV', 'NumBorrow', 'DTIRat', 'CreditScore',\n",
      "       'CurrInterestRate', 'LoanAge', 'MonthsToMaturity', 'Default', 'Channel',\n",
      "       'SellerName', 'OrDate', 'FTHomeBuyer', 'LoanPurpose', 'PropertyType',\n",
      "       'MonthRep', 'MaturityDate'],\n",
      "      dtype='object')\n",
      "Training T-SNE ...\n",
      "[t-SNE] Computing 91 nearest neighbors...\n",
      "[t-SNE] Indexed 160 samples in 0.000s...\n",
      "[t-SNE] Computed neighbors for 160 samples in 0.016s...\n",
      "[t-SNE] Computed conditional probabilities for sample 160 / 160\n",
      "[t-SNE] Mean sigma: 4.810965\n",
      "[t-SNE] KL divergence after 250 iterations with early exaggeration: 53.427433\n",
      "[t-SNE] Error after 251 iterations: 179769313486231570814527423731704356798070567525844996598917476803157260780028538760589558632766878171540458953514382464234321326889464182768467546703537516986049910576551282076245490090389328944075868508455133942304583236903222948165808559332123348274797826204144723168738177180919299881250404026184124858368.000000\n"
     ]
    },
    {
     "name": "stderr",
     "output_type": "stream",
     "text": [
      "No handles with labels found to put in legend.\n"
     ]
    },
    {
     "data": {
      "image/png": "[encoded data removed]",
      "text/plain": [
       "<Figure size 1440x720 with 1 Axes>"
      ]
     },
     "metadata": {},
     "output_type": "display_data"
    }
   ],
   "source": [
    "df = load_data(100000, False)\n",
    "# make_dates_numeric(df)\n",
    "\n",
    "# FORCE FEATURES TO BE INCLUDED\n",
    "df = df[pd.notnull(df['CreditScore'])]\n",
    "df = df[pd.notnull(df['DTIRat'])]\n",
    "\n",
    "# FORCE FEATURES TO BE EXCLUDED\n",
    "df = df.drop('LoanID',axis=1)\n",
    "df = df.drop('CLDS',axis=1)\n",
    "\n",
    "# FORCE FEATURE TO BE CATEGORICAL\n",
    "# df['Zip'] = df['Zip'].astype('object',copy=False)\n",
    "# df['MSA'] = df['MSA'].astype('object',copy=False)\n",
    "\n",
    "\n",
    "na_columns = get_na_columns(df)\n",
    "df = df.drop(na_columns,axis=1)\n",
    "\n",
    "cat_feat = get_cat_feat(df)\n",
    "cat_data = df[cat_feat]\n",
    "print(cat_feat)\n",
    "cat_data = label_encode(cat_data)\n",
    "\n",
    "num_feat = get_num_feat(df)\n",
    "num_data = normalize(df[num_feat])\n",
    "\n",
    "\n",
    "df = pd.concat([num_data, cat_data], axis=1)\n",
    "print(df.columns)\n",
    "\n",
    "\n",
    "tsne_visual(df)"
   ]
  },
  {
   "cell_type": "markdown",
   "metadata": {},
   "source": [
    "MAIN 2"
   ]
  },
  {
   "cell_type": "code",
   "execution_count": 13,
   "metadata": {},
   "outputs": [
    {
     "data": {
      "text/html": [
       "<div>\n",
       "<style scoped>\n",
       "    .dataframe tbody tr th:only-of-type {\n",
       "        vertical-align: middle;\n",
       "    }\n",
       "\n",
       "    .dataframe tbody tr th {\n",
       "        vertical-align: top;\n",
       "    }\n",
       "\n",
       "    .dataframe thead th {\n",
       "        text-align: right;\n",
       "    }\n",
       "</style>\n",
       "<table border=\"1\" class=\"dataframe\">\n",
       "  <thead>\n",
       "    <tr style=\"text-align: right;\">\n",
       "      <th></th>\n",
       "      <th>OrInterestRate</th>\n",
       "      <th>OrLTV</th>\n",
       "      <th>NumBorrow</th>\n",
       "      <th>DTIRat</th>\n",
       "      <th>CreditScore</th>\n",
       "      <th>CurrInterestRate</th>\n",
       "      <th>LoanAge</th>\n",
       "      <th>MonthsToMaturity</th>\n",
       "      <th>Default</th>\n",
       "      <th>Channel</th>\n",
       "      <th>SellerName</th>\n",
       "      <th>OrDate</th>\n",
       "      <th>FTHomeBuyer</th>\n",
       "      <th>LoanPurpose</th>\n",
       "      <th>PropertyType</th>\n",
       "      <th>MonthRep</th>\n",
       "      <th>MaturityDate</th>\n",
       "    </tr>\n",
       "  </thead>\n",
       "  <tbody>\n",
       "    <tr>\n",
       "      <th>0</th>\n",
       "      <td>0.565217</td>\n",
       "      <td>0.597403</td>\n",
       "      <td>0.0</td>\n",
       "      <td>0.807018</td>\n",
       "      <td>0.267101</td>\n",
       "      <td>0.510638</td>\n",
       "      <td>0.090909</td>\n",
       "      <td>0.438679</td>\n",
       "      <td>1.0</td>\n",
       "      <td>0</td>\n",
       "      <td>9</td>\n",
       "      <td>7</td>\n",
       "      <td>0</td>\n",
       "      <td>2</td>\n",
       "      <td>3</td>\n",
       "      <td>0</td>\n",
       "      <td>64</td>\n",
       "    </tr>\n",
       "    <tr>\n",
       "      <th>1</th>\n",
       "      <td>0.565217</td>\n",
       "      <td>0.116883</td>\n",
       "      <td>0.0</td>\n",
       "      <td>0.824561</td>\n",
       "      <td>0.286645</td>\n",
       "      <td>0.382979</td>\n",
       "      <td>0.181818</td>\n",
       "      <td>0.891509</td>\n",
       "      <td>0.0</td>\n",
       "      <td>0</td>\n",
       "      <td>1</td>\n",
       "      <td>6</td>\n",
       "      <td>0</td>\n",
       "      <td>0</td>\n",
       "      <td>3</td>\n",
       "      <td>0</td>\n",
       "      <td>67</td>\n",
       "    </tr>\n",
       "    <tr>\n",
       "      <th>2</th>\n",
       "      <td>0.521739</td>\n",
       "      <td>1.000000</td>\n",
       "      <td>0.5</td>\n",
       "      <td>0.526316</td>\n",
       "      <td>0.566775</td>\n",
       "      <td>0.765957</td>\n",
       "      <td>0.181818</td>\n",
       "      <td>0.436321</td>\n",
       "      <td>0.0</td>\n",
       "      <td>1</td>\n",
       "      <td>1</td>\n",
       "      <td>6</td>\n",
       "      <td>0</td>\n",
       "      <td>2</td>\n",
       "      <td>3</td>\n",
       "      <td>0</td>\n",
       "      <td>57</td>\n",
       "    </tr>\n",
       "    <tr>\n",
       "      <th>3</th>\n",
       "      <td>0.521739</td>\n",
       "      <td>0.415584</td>\n",
       "      <td>0.0</td>\n",
       "      <td>0.631579</td>\n",
       "      <td>0.276873</td>\n",
       "      <td>0.425532</td>\n",
       "      <td>0.000000</td>\n",
       "      <td>0.922170</td>\n",
       "      <td>0.0</td>\n",
       "      <td>0</td>\n",
       "      <td>4</td>\n",
       "      <td>8</td>\n",
       "      <td>0</td>\n",
       "      <td>0</td>\n",
       "      <td>3</td>\n",
       "      <td>0</td>\n",
       "      <td>6</td>\n",
       "    </tr>\n",
       "    <tr>\n",
       "      <th>4</th>\n",
       "      <td>0.521739</td>\n",
       "      <td>0.714286</td>\n",
       "      <td>0.0</td>\n",
       "      <td>0.210526</td>\n",
       "      <td>0.390879</td>\n",
       "      <td>0.765957</td>\n",
       "      <td>0.545455</td>\n",
       "      <td>0.426887</td>\n",
       "      <td>0.0</td>\n",
       "      <td>1</td>\n",
       "      <td>4</td>\n",
       "      <td>2</td>\n",
       "      <td>0</td>\n",
       "      <td>0</td>\n",
       "      <td>3</td>\n",
       "      <td>0</td>\n",
       "      <td>32</td>\n",
       "    </tr>\n",
       "  </tbody>\n",
       "</table>\n",
       "</div>"
      ],
      "text/plain": [
       "   OrInterestRate     OrLTV  NumBorrow    DTIRat  CreditScore  \\\n",
       "0        0.565217  0.597403        0.0  0.807018     0.267101   \n",
       "1        0.565217  0.116883        0.0  0.824561     0.286645   \n",
       "2        0.521739  1.000000        0.5  0.526316     0.566775   \n",
       "3        0.521739  0.415584        0.0  0.631579     0.276873   \n",
       "4        0.521739  0.714286        0.0  0.210526     0.390879   \n",
       "\n",
       "   CurrInterestRate   LoanAge  MonthsToMaturity  Default  Channel  SellerName  \\\n",
       "0          0.510638  0.090909          0.438679      1.0        0           9   \n",
       "1          0.382979  0.181818          0.891509      0.0        0           1   \n",
       "2          0.765957  0.181818          0.436321      0.0        1           1   \n",
       "3          0.425532  0.000000          0.922170      0.0        0           4   \n",
       "4          0.765957  0.545455          0.426887      0.0        1           4   \n",
       "\n",
       "   OrDate  FTHomeBuyer  LoanPurpose  PropertyType  MonthRep  MaturityDate  \n",
       "0       7            0            2             3         0            64  \n",
       "1       6            0            0             3         0            67  \n",
       "2       6            0            2             3         0            57  \n",
       "3       8            0            0             3         0             6  \n",
       "4       2            0            0             3         0            32  "
      ]
     },
     "execution_count": 13,
     "metadata": {},
     "output_type": "execute_result"
    }
   ],
   "source": [
    "df.head()"
   ]
  },
  {
   "cell_type": "code",
   "execution_count": null,
   "metadata": {},
   "outputs": [],
   "source": []
  },
  {
   "cell_type": "code",
   "execution_count": 14,
   "metadata": {},
   "outputs": [],
   "source": [
    "\"\"\"\n",
    "    Split the target variable from the input variables.\n",
    "\"\"\" \n",
    "y = df['Default']\n",
    "X = df.drop(['Default'], axis=1)"
   ]
  },
  {
   "cell_type": "code",
   "execution_count": 16,
   "metadata": {},
   "outputs": [
    {
     "name": "stdout",
     "output_type": "stream",
     "text": [
      "0.0    144\n",
      "1.0     16\n",
      "Name: Default, dtype: int64\n"
     ]
    },
    {
     "data": {
      "text/html": [
       "<div>\n",
       "<style scoped>\n",
       "    .dataframe tbody tr th:only-of-type {\n",
       "        vertical-align: middle;\n",
       "    }\n",
       "\n",
       "    .dataframe tbody tr th {\n",
       "        vertical-align: top;\n",
       "    }\n",
       "\n",
       "    .dataframe thead th {\n",
       "        text-align: right;\n",
       "    }\n",
       "</style>\n",
       "<table border=\"1\" class=\"dataframe\">\n",
       "  <thead>\n",
       "    <tr style=\"text-align: right;\">\n",
       "      <th></th>\n",
       "      <th>OrInterestRate</th>\n",
       "      <th>OrLTV</th>\n",
       "      <th>NumBorrow</th>\n",
       "      <th>DTIRat</th>\n",
       "      <th>CreditScore</th>\n",
       "      <th>CurrInterestRate</th>\n",
       "      <th>LoanAge</th>\n",
       "      <th>MonthsToMaturity</th>\n",
       "      <th>Default</th>\n",
       "      <th>Channel</th>\n",
       "      <th>SellerName</th>\n",
       "      <th>OrDate</th>\n",
       "      <th>FTHomeBuyer</th>\n",
       "      <th>LoanPurpose</th>\n",
       "      <th>PropertyType</th>\n",
       "      <th>MonthRep</th>\n",
       "      <th>MaturityDate</th>\n",
       "    </tr>\n",
       "  </thead>\n",
       "  <tbody>\n",
       "    <tr>\n",
       "      <th>0</th>\n",
       "      <td>0.565217</td>\n",
       "      <td>0.597403</td>\n",
       "      <td>0.0</td>\n",
       "      <td>0.807018</td>\n",
       "      <td>0.267101</td>\n",
       "      <td>0.510638</td>\n",
       "      <td>0.090909</td>\n",
       "      <td>0.438679</td>\n",
       "      <td>1.0</td>\n",
       "      <td>0</td>\n",
       "      <td>9</td>\n",
       "      <td>7</td>\n",
       "      <td>0</td>\n",
       "      <td>2</td>\n",
       "      <td>3</td>\n",
       "      <td>0</td>\n",
       "      <td>64</td>\n",
       "    </tr>\n",
       "    <tr>\n",
       "      <th>1</th>\n",
       "      <td>0.565217</td>\n",
       "      <td>0.116883</td>\n",
       "      <td>0.0</td>\n",
       "      <td>0.824561</td>\n",
       "      <td>0.286645</td>\n",
       "      <td>0.382979</td>\n",
       "      <td>0.181818</td>\n",
       "      <td>0.891509</td>\n",
       "      <td>0.0</td>\n",
       "      <td>0</td>\n",
       "      <td>1</td>\n",
       "      <td>6</td>\n",
       "      <td>0</td>\n",
       "      <td>0</td>\n",
       "      <td>3</td>\n",
       "      <td>0</td>\n",
       "      <td>67</td>\n",
       "    </tr>\n",
       "    <tr>\n",
       "      <th>2</th>\n",
       "      <td>0.521739</td>\n",
       "      <td>1.000000</td>\n",
       "      <td>0.5</td>\n",
       "      <td>0.526316</td>\n",
       "      <td>0.566775</td>\n",
       "      <td>0.765957</td>\n",
       "      <td>0.181818</td>\n",
       "      <td>0.436321</td>\n",
       "      <td>0.0</td>\n",
       "      <td>1</td>\n",
       "      <td>1</td>\n",
       "      <td>6</td>\n",
       "      <td>0</td>\n",
       "      <td>2</td>\n",
       "      <td>3</td>\n",
       "      <td>0</td>\n",
       "      <td>57</td>\n",
       "    </tr>\n",
       "    <tr>\n",
       "      <th>3</th>\n",
       "      <td>0.521739</td>\n",
       "      <td>0.415584</td>\n",
       "      <td>0.0</td>\n",
       "      <td>0.631579</td>\n",
       "      <td>0.276873</td>\n",
       "      <td>0.425532</td>\n",
       "      <td>0.000000</td>\n",
       "      <td>0.922170</td>\n",
       "      <td>0.0</td>\n",
       "      <td>0</td>\n",
       "      <td>4</td>\n",
       "      <td>8</td>\n",
       "      <td>0</td>\n",
       "      <td>0</td>\n",
       "      <td>3</td>\n",
       "      <td>0</td>\n",
       "      <td>6</td>\n",
       "    </tr>\n",
       "    <tr>\n",
       "      <th>4</th>\n",
       "      <td>0.521739</td>\n",
       "      <td>0.714286</td>\n",
       "      <td>0.0</td>\n",
       "      <td>0.210526</td>\n",
       "      <td>0.390879</td>\n",
       "      <td>0.765957</td>\n",
       "      <td>0.545455</td>\n",
       "      <td>0.426887</td>\n",
       "      <td>0.0</td>\n",
       "      <td>1</td>\n",
       "      <td>4</td>\n",
       "      <td>2</td>\n",
       "      <td>0</td>\n",
       "      <td>0</td>\n",
       "      <td>3</td>\n",
       "      <td>0</td>\n",
       "      <td>32</td>\n",
       "    </tr>\n",
       "  </tbody>\n",
       "</table>\n",
       "</div>"
      ],
      "text/plain": [
       "   OrInterestRate     OrLTV  NumBorrow    DTIRat  CreditScore  \\\n",
       "0        0.565217  0.597403        0.0  0.807018     0.267101   \n",
       "1        0.565217  0.116883        0.0  0.824561     0.286645   \n",
       "2        0.521739  1.000000        0.5  0.526316     0.566775   \n",
       "3        0.521739  0.415584        0.0  0.631579     0.276873   \n",
       "4        0.521739  0.714286        0.0  0.210526     0.390879   \n",
       "\n",
       "   CurrInterestRate   LoanAge  MonthsToMaturity  Default  Channel  SellerName  \\\n",
       "0          0.510638  0.090909          0.438679      1.0        0           9   \n",
       "1          0.382979  0.181818          0.891509      0.0        0           1   \n",
       "2          0.765957  0.181818          0.436321      0.0        1           1   \n",
       "3          0.425532  0.000000          0.922170      0.0        0           4   \n",
       "4          0.765957  0.545455          0.426887      0.0        1           4   \n",
       "\n",
       "   OrDate  FTHomeBuyer  LoanPurpose  PropertyType  MonthRep  MaturityDate  \n",
       "0       7            0            2             3         0            64  \n",
       "1       6            0            0             3         0            67  \n",
       "2       6            0            2             3         0            57  \n",
       "3       8            0            0             3         0             6  \n",
       "4       2            0            0             3         0            32  "
      ]
     },
     "execution_count": 16,
     "metadata": {},
     "output_type": "execute_result"
    }
   ],
   "source": [
    "print(y.value_counts())\n",
    "df.head()"
   ]
  },
  {
   "cell_type": "code",
   "execution_count": 17,
   "metadata": {},
   "outputs": [],
   "source": [
    "from imblearn.over_sampling import RandomOverSampler"
   ]
  },
  {
   "cell_type": "code",
   "execution_count": 18,
   "metadata": {},
   "outputs": [
    {
     "name": "stdout",
     "output_type": "stream",
     "text": [
      "0.0    144\n",
      "1.0    144\n",
      "dtype: int64\n"
     ]
    }
   ],
   "source": [
    "sm = RandomOverSampler()\n",
    "\n",
    "n_1 = sum(y)\n",
    "n_0 = len(y) - sum(y)\n",
    "\n",
    "# sm = SMOTE()\n",
    "\n",
    "X_cols = X.columns\n",
    "X, y = sm.fit_sample(X, y) # fit_sample takes a dataframe, but returns an array. \n",
    "(X, y) = (pd.DataFrame(X, columns=X_cols), pd.Series(y))\n",
    "print(y.value_counts())"
   ]
  },
  {
   "cell_type": "code",
   "execution_count": 19,
   "metadata": {},
   "outputs": [
    {
     "name": "stdout",
     "output_type": "stream",
     "text": [
      "StratifiedKFold(n_splits=10, random_state=None, shuffle=False)\n"
     ]
    }
   ],
   "source": [
    "# X = np.array([[1, 2], [3, 4], [1, 2], [3, 4]])\n",
    "# y = np.array([0, 0, 1, 1])\n",
    "skf = StratifiedKFold(n_splits=10)\n",
    "skf.get_n_splits(X, y)\n",
    "\n",
    "print(skf)\n",
    "\n",
    "from xgboost import XGBClassifier\n",
    "model = XGBClassifier()"
   ]
  },
  {
   "cell_type": "code",
   "execution_count": 20,
   "metadata": {},
   "outputs": [
    {
     "name": "stdout",
     "output_type": "stream",
     "text": [
      "False\n",
      "Accuracy: 93.33% || AUC: 93.33% || F1 - Score: 93.75%\n",
      "False\n",
      "Accuracy: 90.00% || AUC: 90.00% || F1 - Score: 90.91%\n",
      "False\n",
      "Accuracy: 96.67% || AUC: 96.67% || F1 - Score: 96.77%\n",
      "False\n",
      "Accuracy: 93.33% || AUC: 93.33% || F1 - Score: 93.75%\n",
      "False\n",
      "Accuracy: 100.00% || AUC: 100.00% || F1 - Score: 100.00%\n",
      "False\n",
      "Accuracy: 96.43% || AUC: 96.43% || F1 - Score: 96.55%\n",
      "False\n",
      "Accuracy: 100.00% || AUC: 100.00% || F1 - Score: 100.00%\n",
      "False\n",
      "Accuracy: 92.86% || AUC: 92.86% || F1 - Score: 93.33%\n",
      "False\n",
      "Accuracy: 96.43% || AUC: 96.43% || F1 - Score: 96.55%\n",
      "False\n",
      "Accuracy: 100.00% || AUC: 100.00% || F1 - Score: 100.00%\n"
     ]
    }
   ],
   "source": [
    "for train_index, test_index in skf.split(X, y):\n",
    "    \n",
    "    # print(\"TRAIN:\", train_index, \"TEST:\", test_index)\n",
    "    X_train, X_test = X.iloc[train_index], X.iloc[test_index]\n",
    "    y_train, y_test = y.iloc[train_index], y.iloc[test_index]\n",
    "    print(y_train.isnull().values.any())\n",
    "    \n",
    "    # fit model on training data\n",
    "    model.fit(X_train, y_train)\n",
    "    \n",
    "    # make predictions for test data\n",
    "    y_pred = model.predict(X_test)\n",
    "    predictions = [round(value) for value in y_pred]\n",
    "    \n",
    "    # evaluate predictions\n",
    "    auc = roc_auc_score(y_test, predictions)\n",
    "    accuracy = accuracy_score(y_test, predictions)\n",
    "    f1 = f1_score(y_test, predictions)\n",
    "    print(\"Accuracy: %.2f%%\" % (accuracy * 100.0), \"|| AUC: %.2f%%\" % (auc * 100.0), \"|| F1 - Score: %.2f%%\" % (f1 * 100.0))"
   ]
  },
  {
   "cell_type": "code",
   "execution_count": 35,
   "metadata": {},
   "outputs": [
    {
     "data": {
      "text/plain": [
       "array([0.9810524 , 0.9646315 , 0.940282  , 0.93064356, 0.8995881 ,\n",
       "       0.00575597], dtype=float32)"
      ]
     },
     "execution_count": 35,
     "metadata": {},
     "output_type": "execute_result"
    }
   ],
   "source": [
    "fpr, tpr, thresholds = roc_curve(y_test, model.predict_proba(X_test)[:,1])\n",
    "thresholds"
   ]
  },
  {
   "cell_type": "code",
   "execution_count": 42,
   "metadata": {},
   "outputs": [
    {
     "name": "stdout",
     "output_type": "stream",
     "text": [
      "             precision    recall  f1-score   support\n",
      "\n",
      "        0.0       1.00      1.00      1.00        14\n",
      "        1.0       1.00      1.00      1.00        14\n",
      "\n",
      "avg / total       1.00      1.00      1.00        28\n",
      "\n"
     ]
    },
    {
     "data": {
      "text/plain": [
       "Text(1,1,'Sampling algorithm: RandomOverSampling')"
      ]
     },
     "execution_count": 42,
     "metadata": {},
     "output_type": "execute_result"
    },
    {
     "data": {
      "image/png": "[encoded data removed]",
      "text/plain": [
       "<Figure size 432x288 with 2 Axes>"
      ]
     },
     "metadata": {},
     "output_type": "display_data"
    }
   ],
   "source": [
    "\"\"\"\n",
    "    Output statistics - confusion matrix\n",
    "\"\"\"\n",
    "\n",
    "print(classification_report(y_test, y_pred))\n",
    "cm = confusion_matrix(y_test, y_pred).T\n",
    "cm = cm.astype('float')/cm.sum(axis=0)\n",
    "fig, ax = plt.subplots()\n",
    "sns.heatmap(cm, annot=True, cmap='Blues')\n",
    "ax.set_xlabel('True Label')\n",
    "ax.set_ylabel('Predicted Label')\n",
    "ax.set_title('Sampling algorithm: ' + \"RandomOverSampling\", loc='right', fontsize=10, fontweight='bold')"
   ]
  },
  {
   "cell_type": "code",
   "execution_count": null,
   "metadata": {},
   "outputs": [],
   "source": []
  }
 ],
 "metadata": {
  "kernelspec": {
   "display_name": "Python 3",
   "language": "python",
   "name": "python3"
  },
  "language_info": {
   "codemirror_mode": {
    "name": "ipython",
    "version": 3
   },
   "file_extension": ".py",
   "mimetype": "text/x-python",
   "name": "python",
   "nbconvert_exporter": "python",
   "pygments_lexer": "ipython3",
   "version": "3.6.5"
  }
 },
 "nbformat": 4,
 "nbformat_minor": 2
}
