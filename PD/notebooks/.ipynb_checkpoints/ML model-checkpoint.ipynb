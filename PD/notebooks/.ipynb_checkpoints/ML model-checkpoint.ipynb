{
 "cells": [
  {
   "cell_type": "code",
   "execution_count": 1,
   "metadata": {},
   "outputs": [
    {
     "name": "stderr",
     "output_type": "stream",
     "text": [
      "C:\\Users\\bebxadvberb\\AppData\\Local\\Continuum\\anaconda3\\lib\\site-packages\\sklearn\\cross_validation.py:41: DeprecationWarning: This module was deprecated in version 0.18 in favor of the model_selection module into which all the refactored classes and functions are moved. Also note that the interface of the new CV iterators are different from that of this module. This module will be removed in 0.20.\n",
      "  \"This module will be removed in 0.20.\", DeprecationWarning)\n"
     ]
    }
   ],
   "source": [
    "import time\n",
    "import xgboost as xgb\n",
    "import pandas as pd\n",
    "import numpy as np\n",
    "import seaborn as sns\n",
    "import matplotlib.pyplot as plt\n",
    "import sklearn.metrics\n",
    "\n",
    "\n",
    "from sklearn.preprocessing import OneHotEncoder\n",
    "from matplotlib.pyplot import cm\n",
    "from sklearn.manifold import TSNE\n",
    "from sklearn.preprocessing import LabelEncoder\n",
    "from sklearn import preprocessing\n",
    "from sklearn.cross_validation import train_test_split\n",
    "from sklearn.model_selection import StratifiedKFold\n",
    "from sklearn.metrics import roc_auc_score, accuracy_score, roc_curve, f1_score, average_precision_score\n",
    "from sklearn.metrics import classification_report, confusion_matrix\n",
    "from imblearn.over_sampling import SMOTE\n",
    "\n",
    "sns.set(style=\"white\", color_codes=True)\n",
    "%matplotlib inline"
   ]
  },
  {
   "cell_type": "code",
   "execution_count": null,
   "metadata": {},
   "outputs": [],
   "source": [
    "def load_perf_data(maxLines):\n",
    "\n",
    "    \"\"\"\n",
    "        Import dataset\n",
    "    \"\"\"\n",
    "    \n",
    "    col_per = ['LoanID','MonthRep','Servicer','CurrInterestRate','CAUPB','LoanAge','MonthsToMaturity',\n",
    "              'AdMonthsToMaturity','MaturityDate','MSA','CLDS','ModFlag','ZeroBalCode','ZeroBalDate',\n",
    "              'LastInstallDate','ForeclosureDate','DispositionDate','PPRC','AssetRecCost','MHRC',\n",
    "              'ATFHP','NetSaleProceeds','CreditEnhProceeds','RPMWP','OFP','NIBUPB','PFUPB','RMWPF',\n",
    "              'FPWA','ServicingIndicator'] \n",
    "    \n",
    "    extended_selec_per = ['LoanID', 'MonthsToMaturity', 'CurrInterestRate', 'LoanAge', 'CLDS', 'MaturityDate', 'MonthRep']\n",
    "    \n",
    "    col_per_subset =  extended_selec_per\n",
    "    \n",
    "    lines_to_read = maxLines\n",
    "    # aquisition_frame = pd.read_csv('C:/Users/bebxadvberb/Documents/AI/Trusted AI/Acquisition_2007Q4.txt', sep='|', names=col_acq, usecols=col_acq_subset, index_col=False, nrows=lines_to_read )\n",
    "    performance_frame = pd.read_csv('C:/Users/bebxadvberb/Documents/AI/Trusted AI/Performance_2007Q4.txt', sep='|', names=col_per, usecols=col_per_subset, index_col=False, nrows=lines_to_read) \n",
    "    \n",
    "    \n",
    "    return performance_frame"
   ]
  },
  {
   "cell_type": "code",
   "execution_count": null,
   "metadata": {},
   "outputs": [],
   "source": [
    "df = load_perf_data(1000000)"
   ]
  },
  {
   "cell_type": "code",
   "execution_count": 62,
   "metadata": {},
   "outputs": [
    {
     "data": {
      "text/plain": [
       "LoanID              921160\n",
       "Channel             921160\n",
       "SellerName          921160\n",
       "OrInterestRate      921160\n",
       "OrDate              921160\n",
       "OrLTV               921160\n",
       "NumBorrow           921160\n",
       "DTIRat              894796\n",
       "CreditScore         919465\n",
       "FTHomeBuyer         921160\n",
       "LoanPurpose         921160\n",
       "PropertyType        921160\n",
       "MonthRep            921160\n",
       "CurrInterestRate    921160\n",
       "LoanAge             921160\n",
       "MonthsToMaturity    921160\n",
       "MaturityDate        921160\n",
       "CLDS                921160\n",
       "dtype: int64"
      ]
     },
     "execution_count": 62,
     "metadata": {},
     "output_type": "execute_result"
    }
   ],
   "source": [
    "df.count()"
   ]
  },
  {
   "cell_type": "code",
   "execution_count": null,
   "metadata": {},
   "outputs": [],
   "source": []
  },
  {
   "cell_type": "code",
   "execution_count": null,
   "metadata": {},
   "outputs": [],
   "source": []
  },
  {
   "cell_type": "code",
   "execution_count": 63,
   "metadata": {},
   "outputs": [],
   "source": [
    "def filter_one_year(pf):\n",
    "    pf_obs = pf[\n",
    "        (pf.MonthRep == '01/01/2018') | \n",
    "        (pf.MonthRep == '02/01/2018') |\n",
    "        (pf.MonthRep == '03/01/2018') |\n",
    "        (pf.MonthRep == '04/01/2018') |\n",
    "        (pf.MonthRep == '05/01/2018') |\n",
    "        (pf.MonthRep == '06/01/2018') |\n",
    "        (pf.MonthRep == '07/01/2018') |\n",
    "        (pf.MonthRep == '08/01/2018') |\n",
    "        (pf.MonthRep == '09/01/2018') |\n",
    "        (pf.MonthRep == '10/01/2018') |\n",
    "        (pf.MonthRep == '11/01/2018') |\n",
    "        (pf.MonthRep == '12/01/2018') \n",
    "    ]\n",
    "    return pf_obs"
   ]
  },
  {
   "cell_type": "code",
   "execution_count": 64,
   "metadata": {},
   "outputs": [],
   "source": [
    "def add_default_feature(pf_obs):\n",
    "    \"\"\" \n",
    "    Find the LoanIDs of those loans where a default appears in our performance period.\n",
    "    \"\"\"\n",
    "    pf_obs_defaults = pf_obs[\n",
    "                            (pf_obs.CLDS != '0') &\n",
    "                            (pf_obs.CLDS != '1') &\n",
    "                            (pf_obs.CLDS != '2') &\n",
    "                            (pf_obs.CLDS != 'X')\n",
    "                        ].LoanID\n",
    "    print(pf_obs_defaults)\n",
    "    \n",
    "    pf_obs['Default'] = 0\n",
    "    pf_obs.loc[pf_obs['LoanID'].isin(pf_obs_defaults), 'Default'] = 1\n",
    "    return pf_obs"
   ]
  },
  {
   "cell_type": "code",
   "execution_count": 65,
   "metadata": {},
   "outputs": [
    {
     "name": "stdout",
     "output_type": "stream",
     "text": [
      "Series([], Name: LoanID, dtype: int64)\n"
     ]
    },
    {
     "data": {
      "text/plain": [
       "0"
      ]
     },
     "execution_count": 65,
     "metadata": {},
     "output_type": "execute_result"
    }
   ],
   "source": [
    "df = add_default_feature(df)\n",
    "df.Default.sum()"
   ]
  },
  {
   "cell_type": "code",
   "execution_count": 66,
   "metadata": {},
   "outputs": [],
   "source": [
    "pf_obs = df"
   ]
  },
  {
   "cell_type": "code",
   "execution_count": 67,
   "metadata": {},
   "outputs": [
    {
     "data": {
      "text/plain": [
       "Series([], Name: LoanID, dtype: int64)"
      ]
     },
     "execution_count": 67,
     "metadata": {},
     "output_type": "execute_result"
    }
   ],
   "source": [
    "pf_obs[\n",
    "    (pf_obs.CLDS != '0') &\n",
    "    (pf_obs.CLDS != '1') &\n",
    "    (pf_obs.CLDS != '2') &\n",
    "    (pf_obs.CLDS != 'X')\n",
    "].LoanID"
   ]
  },
  {
   "cell_type": "code",
   "execution_count": null,
   "metadata": {},
   "outputs": [],
   "source": [
    "df.Default.sum()"
   ]
  },
  {
   "cell_type": "code",
   "execution_count": null,
   "metadata": {},
   "outputs": [],
   "source": []
  }
 ],
 "metadata": {
  "kernelspec": {
   "display_name": "Python 3",
   "language": "python",
   "name": "python3"
  },
  "language_info": {
   "codemirror_mode": {
    "name": "ipython",
    "version": 3
   },
   "file_extension": ".py",
   "mimetype": "text/x-python",
   "name": "python",
   "nbconvert_exporter": "python",
   "pygments_lexer": "ipython3",
   "version": "3.6.5"
  }
 },
 "nbformat": 4,
 "nbformat_minor": 2
}
