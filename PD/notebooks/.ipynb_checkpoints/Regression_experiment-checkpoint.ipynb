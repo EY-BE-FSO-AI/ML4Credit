{
 "cells": [
  {
   "cell_type": "code",
   "execution_count": 1,
   "metadata": {},
   "outputs": [],
   "source": [
    "\"\"\"\n",
    "    Author: Nicolas Bulté\n",
    "\"\"\"\n",
    "\n",
    "\"\"\"\n",
    "Glossary mapping\n",
    "\"\"\"\n",
    "\n",
    "# LoanID               = Loan Identifier (A,P)\n",
    "# MonthRep             = Monthly Reporting Period (P)\n",
    "# Servicer             = Servicer Name (P)\n",
    "# CurrInterestRate     = CURRENT INTEREST RATE (P)\n",
    "# CAUPB                = CURRENT ACTUAL UNPAID PRINCIPAL BALANCE (P)\n",
    "# LoanAge              = Loan Age (P)\n",
    "# MonthsToMaturity     = Remaining Months to Legal Maturity (P)\n",
    "# AdMonthsToMaturity   = ADJUSTED REMAINING MONTHS TO MATURITY (P)\n",
    "# MaturityDate         = Maturity Date (P)\n",
    "# MSA                  = Metropolitan Statistical Area (P)\n",
    "# CLDS                 = Current Loan Delinquency Status (P)\n",
    "# ModFlag              = Modification Flag (P)\n",
    "# ZeroBalCode          = Zero Balance Code (P)\n",
    "# ZeroBalDate          = Zero Balance Effective Date(P)\n",
    "# LastInstallDate      = LAST PAID INSTALLMENT DATE\n",
    "# ForeclosureDate      = FORECLOSURE DATE\n",
    "# DispositionDate      = DISPOSITION DATE\n",
    "# ForeclosureCosts     = FORECLOSURE COSTS (P)\n",
    "# PPRC                 = Property Preservation and Repair Costs (P)\n",
    "# AssetRecCost         = ASSET RECOVERY COSTS (P)\n",
    "# MHEC                 = Miscellaneous Holding Expenses and Credits (P)\n",
    "# ATFHP                = Associated Taxes for Holding Property (P)\n",
    "# NetSaleProceeds      = Net Sale Proceeds (P)\n",
    "# CreditEnhProceeds    = Credit Enhancement Proceeds (P)\n",
    "# RPMWP                = Repurchase Make Whole Proceeds(P)\n",
    "# OFP                  = Other Foreclosure Proceeds (P)\n",
    "# NIBUPB               = Non-Interest Bearing UPB (P)\n",
    "# PFUPB                = PRINCIPAL FORGIVENESS UPB (P)\n",
    "# RMWPF                = Repurchase Make Whole Proceeds Flag (P)\n",
    "# FPWA                 = Foreclosure Principal Write-off Amount (P)\n",
    "# ServicingIndicator   = SERVICING ACTIVITY INDICATOR (P)\n",
    "\n",
    "\"\"\"\n",
    "    Import statements \n",
    "\"\"\"\n",
    "\n",
    "import pandas as pd\n",
    "import numpy as np\n",
    "import datetime as dt\n",
    "\n",
    "from sklearn.model_selection import train_test_split\n",
    "from sklearn.model_selection import StratifiedKFold\n",
    "from sklearn.preprocessing import LabelEncoder\n",
    "from sklearn.metrics import roc_auc_score, accuracy_score, roc_curve, f1_score, average_precision_score\n",
    "\n",
    "\n",
    "# Import datasets, select features and define the default-flag column.\n",
    "col_per = ['LoanID', 'MonthRep', 'Servicer', 'CurrInterestRate', 'CAUPB', 'LoanAge', 'MonthsToMaturity',\n",
    "           'AdMonthsToMaturity', 'MaturityDate', 'MSA', 'CLDS', 'ModFlag', 'ZeroBalCode', 'ZeroBalDate',\n",
    "           'LastInstallDate', 'ForeclosureDate', 'DispositionDate', 'ForeclosureCosts', 'PPRC', 'AssetRecCost', 'MHEC',\n",
    "           'ATFHP', 'NetSaleProceeds', 'CreditEnhProceeds', 'RPMWP', 'OFP', 'NIBUPB', 'PFUPB', 'RMWPF',\n",
    "           'FPWA', 'ServicingIndicator']\n",
    "\n",
    "# Python will guess the datatypes not specified in the map function, for dates the dtype will be 'object'. (hence: here all dates)\n",
    "# If an expected integer variables contains NaN values it will be set to 'float32'\n",
    "perf_type_map = {'LoanID': 'int64', 'Servicer': 'category', 'CurrInterestRate': 'float32', 'CAUPB': 'float32',\n",
    "                 'LoanAge': 'int64', 'MonthsToMaturity': 'int64', 'AdMonthsToMaturity': 'float32', 'MSA': 'category',\n",
    "                 'CLDS': 'category', 'ModFlag': 'category', 'ZeroBalCode': 'float32', 'ForeclosureCosts': 'float32',\n",
    "                 'PPRC': 'float32', 'AssetRecCost': 'float32', 'MHEC': 'float32', 'ATFHP': 'float32',\n",
    "                 'NetSaleProceeds': 'float32', 'CreditEnhProceeds': 'float32', 'RPMWP': 'float32', 'OFP': 'float32',\n",
    "                 'NIBUPB': 'float32', 'PFUPB': 'float32', 'RMWPF': 'category', 'FPWA': 'float32',\n",
    "                 'ServicingIndicator': 'category'}\n",
    "\n",
    "extended_selec_per = col_per\n",
    "\n",
    "col_per_subset = extended_selec_per"
   ]
  },
  {
   "cell_type": "code",
   "execution_count": 2,
   "metadata": {},
   "outputs": [],
   "source": [
    "file_name='C:/Users/bebxadvberb/Documents/AI/Trusted AI/Performance_HARP.txt'\n",
    "lines_to_read = 1e5"
   ]
  },
  {
   "cell_type": "code",
   "execution_count": 3,
   "metadata": {},
   "outputs": [
    {
     "name": "stderr",
     "output_type": "stream",
     "text": [
      "C:\\Users\\bebxadvberb\\AppData\\Local\\Continuum\\anaconda3\\lib\\site-packages\\IPython\\core\\interactiveshell.py:2785: DtypeWarning: Columns (14,15,16) have mixed types. Specify dtype option on import or set low_memory=False.\n",
      "  interactivity=interactivity, compiler=compiler, result=result)\n"
     ]
    }
   ],
   "source": [
    "pf = pd.read_csv(file_name, sep='|', names=col_per, index_col=False,\n",
    "                     nrows=lines_to_read)\n",
    "pf['CLDS'] = pf.CLDS.replace('X', '1').astype('float')"
   ]
  },
  {
   "cell_type": "code",
   "execution_count": null,
   "metadata": {},
   "outputs": [],
   "source": []
  },
  {
   "cell_type": "code",
   "execution_count": null,
   "metadata": {},
   "outputs": [],
   "source": []
  },
  {
   "cell_type": "code",
   "execution_count": 4,
   "metadata": {},
   "outputs": [],
   "source": [
    "def create_12mDefault(date, perf_df):\n",
    "    \"\"\"\n",
    "    Create the 12 month forward looking default flag.\n",
    "    Parameters\n",
    "    ----------\n",
    "    date: Snapshot date\n",
    "    perf_df: Performance dataframe\n",
    "    Returns\n",
    "    -------\n",
    "    Raw observation dataframe\n",
    "    \"\"\"\n",
    "    cur_date = dt.datetime.strptime(date, '%m/%d/%Y').date()\n",
    "    # Fix the IDs in the observation set by fixing their reporting date AND requiring that the files are healthy.\n",
    "    obs_df = perf_df[(perf_df.MonthRep == date)\n",
    "                     &\n",
    "                     ((perf_df.CLDS == 0.0) |\n",
    "                      (perf_df.CLDS == 1.0) |\n",
    "                      (perf_df.CLDS == 2.0)\n",
    "                      )\n",
    "                     ]\n",
    "    obs_ids = obs_df.LoanID\n",
    "    # Load only the observation IDs in the performance frame initially.\n",
    "    pf = perf_df[perf_df.LoanID.isin(obs_ids)]\n",
    "\n",
    "    # Create the 12 month forward looking list of dates\n",
    "    date_list = []\n",
    "    for i in np.arange(0, 12):\n",
    "        if cur_date.month == 12:\n",
    "            month = 1\n",
    "            year = cur_date.year + 1\n",
    "        else:\n",
    "            month = cur_date.month + 1\n",
    "            year = cur_date.year\n",
    "        next_date = dt.datetime(year, month, cur_date.day)\n",
    "        date_list.append(next_date.strftime('%m/%d/%Y'))\n",
    "        cur_date = next_date\n",
    "\n",
    "    # Find the LoanIDs of those loans where a default appears in our 12 month forward looking period.\n",
    "    pf_obs = perf_df[perf_df.MonthRep.isin(date_list)]\n",
    "    pf_obs_defaults = pf_obs[\n",
    "        (pf_obs.CLDS != 0.0) &\n",
    "        (pf_obs.CLDS != 1.0) &\n",
    "        (pf_obs.CLDS != 2.0)\n",
    "        ].LoanID\n",
    "\n",
    "    pf_obs_defaults = pf_obs_defaults.drop_duplicates(keep='last').values\n",
    "    df = obs_df\n",
    "    df['Default'] = 0\n",
    "    df.loc[df['LoanID'].isin(pf_obs_defaults), 'Default'] = 1\n",
    "\n",
    "    return df"
   ]
  },
  {
   "cell_type": "code",
   "execution_count": null,
   "metadata": {},
   "outputs": [],
   "source": []
  },
  {
   "cell_type": "code",
   "execution_count": null,
   "metadata": {},
   "outputs": [],
   "source": []
  },
  {
   "cell_type": "code",
   "execution_count": 5,
   "metadata": {},
   "outputs": [],
   "source": [
    "def select_sample(observ_df):\n",
    "    '''\n",
    "    Select randomly 1/8 of the accounts from each of the 8 quarterly snapshot; an account should appear only once. \n",
    "    This way, the final sample will have an even mix of each quarter and will be equivalent size of the portfolio \n",
    "    on average over the 2 years.\n",
    "    Parameters\n",
    "    ----------\n",
    "    observ_df: observation dataframe\n",
    "    Returns\n",
    "    -------\n",
    "    '''\n",
    "    snapshots = observ_df.MonthRep.unique()\n",
    "    # Store the size of (in case of 8 snapshot dates) 1/8 of the dataset, divided by 8 again to get the size of 1/8 of a snapshot set. \n",
    "    # Use this to sample from every snapshot set to come to a final df that contains the 1/8 of the original size and has equal\n",
    "    # contribution of every quarter/snapshot moment. \n",
    "    i = int(observ_df.shape[0] / len(snapshots) / len(snapshots))\n",
    "    l = []\n",
    "    for d in snapshots:\n",
    "        l.append(observ_df[observ_df.MonthRep == d].sample(n=i, replace=False, random_state=1))\n",
    "    df = pd.concat(l)\n",
    "    return df"
   ]
  },
  {
   "cell_type": "code",
   "execution_count": null,
   "metadata": {},
   "outputs": [],
   "source": []
  },
  {
   "cell_type": "code",
   "execution_count": 6,
   "metadata": {},
   "outputs": [],
   "source": [
    "def traintest_split(observation_frame, testsize=0.2):\n",
    "    X = observation_frame.drop('Default', axis=1)\n",
    "    Y = observation_frame.Default\n",
    "    X_train, X_test, y_train, y_test = train_test_split(X, Y, test_size=testsize, random_state=1)\n",
    "    return X_train, X_test, y_train, y_test"
   ]
  },
  {
   "cell_type": "code",
   "execution_count": 7,
   "metadata": {},
   "outputs": [
    {
     "name": "stderr",
     "output_type": "stream",
     "text": [
      "C:\\Users\\bebxadvberb\\AppData\\Local\\Continuum\\anaconda3\\lib\\site-packages\\ipykernel_launcher.py:48: SettingWithCopyWarning: \n",
      "A value is trying to be set on a copy of a slice from a DataFrame.\n",
      "Try using .loc[row_indexer,col_indexer] = value instead\n",
      "\n",
      "See the caveats in the documentation: http://pandas.pydata.org/pandas-docs/stable/indexing.html#indexing-view-versus-copy\n",
      "C:\\Users\\bebxadvberb\\AppData\\Local\\Continuum\\anaconda3\\lib\\site-packages\\pandas\\core\\indexing.py:543: SettingWithCopyWarning: \n",
      "A value is trying to be set on a copy of a slice from a DataFrame.\n",
      "Try using .loc[row_indexer,col_indexer] = value instead\n",
      "\n",
      "See the caveats in the documentation: http://pandas.pydata.org/pandas-docs/stable/indexing.html#indexing-view-versus-copy\n",
      "  self.obj[item] = s\n"
     ]
    }
   ],
   "source": [
    "# Define your snapshot dates for your observation frame:\n",
    "date_list = ['03/01/2016', '06/01/2016', '09/01/2016', '12/01/2016', '03/01/2017', '06/01/2017', '09/01/2017',\n",
    "             '12/01/2017']\n",
    "observation_frame = pd.concat([create_12mDefault(d, pf) for d in date_list])"
   ]
  },
  {
   "cell_type": "code",
   "execution_count": 8,
   "metadata": {},
   "outputs": [],
   "source": [
    "observation_frame = observation_frame[observation_frame.CAUPB.notnull()]\n",
    "observation_frame = observation_frame[observation_frame.AdMonthsToMaturity.notnull()]"
   ]
  },
  {
   "cell_type": "code",
   "execution_count": 23,
   "metadata": {},
   "outputs": [],
   "source": [
    "X_train, X_test, y_train, y_test = traintest_split(observation_frame)"
   ]
  },
  {
   "cell_type": "code",
   "execution_count": null,
   "metadata": {},
   "outputs": [],
   "source": []
  },
  {
   "cell_type": "code",
   "execution_count": 24,
   "metadata": {},
   "outputs": [],
   "source": [
    "X,y = X_train, y_train"
   ]
  },
  {
   "cell_type": "code",
   "execution_count": 25,
   "metadata": {},
   "outputs": [
    {
     "data": {
      "text/html": [
       "<div>\n",
       "<style scoped>\n",
       "    .dataframe tbody tr th:only-of-type {\n",
       "        vertical-align: middle;\n",
       "    }\n",
       "\n",
       "    .dataframe tbody tr th {\n",
       "        vertical-align: top;\n",
       "    }\n",
       "\n",
       "    .dataframe thead th {\n",
       "        text-align: right;\n",
       "    }\n",
       "</style>\n",
       "<table border=\"1\" class=\"dataframe\">\n",
       "  <thead>\n",
       "    <tr style=\"text-align: right;\">\n",
       "      <th></th>\n",
       "      <th>LoanID</th>\n",
       "      <th>MonthRep</th>\n",
       "      <th>Servicer</th>\n",
       "      <th>CurrInterestRate</th>\n",
       "      <th>CAUPB</th>\n",
       "      <th>LoanAge</th>\n",
       "      <th>MonthsToMaturity</th>\n",
       "      <th>AdMonthsToMaturity</th>\n",
       "      <th>MaturityDate</th>\n",
       "      <th>MSA</th>\n",
       "      <th>...</th>\n",
       "      <th>ATFHP</th>\n",
       "      <th>NetSaleProceeds</th>\n",
       "      <th>CreditEnhProceeds</th>\n",
       "      <th>RPMWP</th>\n",
       "      <th>OFP</th>\n",
       "      <th>NIBUPB</th>\n",
       "      <th>PFUPB</th>\n",
       "      <th>RMWPF</th>\n",
       "      <th>FPWA</th>\n",
       "      <th>ServicingIndicator</th>\n",
       "    </tr>\n",
       "  </thead>\n",
       "  <tbody>\n",
       "    <tr>\n",
       "      <th>1015</th>\n",
       "      <td>100021670447</td>\n",
       "      <td>09/01/2016</td>\n",
       "      <td>NaN</td>\n",
       "      <td>4.500</td>\n",
       "      <td>75835.89</td>\n",
       "      <td>66</td>\n",
       "      <td>114</td>\n",
       "      <td>107.0</td>\n",
       "      <td>03/2026</td>\n",
       "      <td>15940</td>\n",
       "      <td>...</td>\n",
       "      <td>NaN</td>\n",
       "      <td>NaN</td>\n",
       "      <td>NaN</td>\n",
       "      <td>NaN</td>\n",
       "      <td>NaN</td>\n",
       "      <td>NaN</td>\n",
       "      <td>NaN</td>\n",
       "      <td>NaN</td>\n",
       "      <td>NaN</td>\n",
       "      <td>N</td>\n",
       "    </tr>\n",
       "    <tr>\n",
       "      <th>40278</th>\n",
       "      <td>100609128433</td>\n",
       "      <td>09/01/2017</td>\n",
       "      <td>NaN</td>\n",
       "      <td>4.375</td>\n",
       "      <td>114387.35</td>\n",
       "      <td>43</td>\n",
       "      <td>137</td>\n",
       "      <td>130.0</td>\n",
       "      <td>02/2029</td>\n",
       "      <td>16980</td>\n",
       "      <td>...</td>\n",
       "      <td>NaN</td>\n",
       "      <td>NaN</td>\n",
       "      <td>NaN</td>\n",
       "      <td>NaN</td>\n",
       "      <td>NaN</td>\n",
       "      <td>NaN</td>\n",
       "      <td>NaN</td>\n",
       "      <td>NaN</td>\n",
       "      <td>NaN</td>\n",
       "      <td>N</td>\n",
       "    </tr>\n",
       "    <tr>\n",
       "      <th>51115</th>\n",
       "      <td>100760526472</td>\n",
       "      <td>06/01/2017</td>\n",
       "      <td>NaN</td>\n",
       "      <td>4.500</td>\n",
       "      <td>156629.62</td>\n",
       "      <td>55</td>\n",
       "      <td>305</td>\n",
       "      <td>305.0</td>\n",
       "      <td>11/2042</td>\n",
       "      <td>41860</td>\n",
       "      <td>...</td>\n",
       "      <td>NaN</td>\n",
       "      <td>NaN</td>\n",
       "      <td>NaN</td>\n",
       "      <td>NaN</td>\n",
       "      <td>NaN</td>\n",
       "      <td>NaN</td>\n",
       "      <td>NaN</td>\n",
       "      <td>NaN</td>\n",
       "      <td>NaN</td>\n",
       "      <td>N</td>\n",
       "    </tr>\n",
       "    <tr>\n",
       "      <th>20358</th>\n",
       "      <td>100323063324</td>\n",
       "      <td>12/01/2016</td>\n",
       "      <td>NaN</td>\n",
       "      <td>4.625</td>\n",
       "      <td>136235.85</td>\n",
       "      <td>55</td>\n",
       "      <td>305</td>\n",
       "      <td>304.0</td>\n",
       "      <td>05/2042</td>\n",
       "      <td>35620</td>\n",
       "      <td>...</td>\n",
       "      <td>NaN</td>\n",
       "      <td>NaN</td>\n",
       "      <td>NaN</td>\n",
       "      <td>NaN</td>\n",
       "      <td>NaN</td>\n",
       "      <td>NaN</td>\n",
       "      <td>NaN</td>\n",
       "      <td>NaN</td>\n",
       "      <td>NaN</td>\n",
       "      <td>N</td>\n",
       "    </tr>\n",
       "    <tr>\n",
       "      <th>71939</th>\n",
       "      <td>101056738742</td>\n",
       "      <td>06/01/2017</td>\n",
       "      <td>NaN</td>\n",
       "      <td>3.500</td>\n",
       "      <td>108190.82</td>\n",
       "      <td>52</td>\n",
       "      <td>188</td>\n",
       "      <td>187.0</td>\n",
       "      <td>02/2033</td>\n",
       "      <td>12060</td>\n",
       "      <td>...</td>\n",
       "      <td>NaN</td>\n",
       "      <td>NaN</td>\n",
       "      <td>NaN</td>\n",
       "      <td>NaN</td>\n",
       "      <td>NaN</td>\n",
       "      <td>NaN</td>\n",
       "      <td>NaN</td>\n",
       "      <td>NaN</td>\n",
       "      <td>NaN</td>\n",
       "      <td>N</td>\n",
       "    </tr>\n",
       "  </tbody>\n",
       "</table>\n",
       "<p>5 rows × 31 columns</p>\n",
       "</div>"
      ],
      "text/plain": [
       "             LoanID    MonthRep Servicer  CurrInterestRate      CAUPB  \\\n",
       "1015   100021670447  09/01/2016      NaN             4.500   75835.89   \n",
       "40278  100609128433  09/01/2017      NaN             4.375  114387.35   \n",
       "51115  100760526472  06/01/2017      NaN             4.500  156629.62   \n",
       "20358  100323063324  12/01/2016      NaN             4.625  136235.85   \n",
       "71939  101056738742  06/01/2017      NaN             3.500  108190.82   \n",
       "\n",
       "       LoanAge  MonthsToMaturity  AdMonthsToMaturity MaturityDate    MSA  \\\n",
       "1015        66               114               107.0      03/2026  15940   \n",
       "40278       43               137               130.0      02/2029  16980   \n",
       "51115       55               305               305.0      11/2042  41860   \n",
       "20358       55               305               304.0      05/2042  35620   \n",
       "71939       52               188               187.0      02/2033  12060   \n",
       "\n",
       "              ...          ATFHP NetSaleProceeds  CreditEnhProceeds RPMWP OFP  \\\n",
       "1015          ...            NaN             NaN                NaN   NaN NaN   \n",
       "40278         ...            NaN             NaN                NaN   NaN NaN   \n",
       "51115         ...            NaN             NaN                NaN   NaN NaN   \n",
       "20358         ...            NaN             NaN                NaN   NaN NaN   \n",
       "71939         ...            NaN             NaN                NaN   NaN NaN   \n",
       "\n",
       "      NIBUPB PFUPB  RMWPF  FPWA  ServicingIndicator  \n",
       "1015     NaN   NaN    NaN   NaN                   N  \n",
       "40278    NaN   NaN    NaN   NaN                   N  \n",
       "51115    NaN   NaN    NaN   NaN                   N  \n",
       "20358    NaN   NaN    NaN   NaN                   N  \n",
       "71939    NaN   NaN    NaN   NaN                   N  \n",
       "\n",
       "[5 rows x 31 columns]"
      ]
     },
     "execution_count": 25,
     "metadata": {},
     "output_type": "execute_result"
    }
   ],
   "source": [
    "X.head()"
   ]
  },
  {
   "cell_type": "markdown",
   "metadata": {},
   "source": [
    "# Start From this cell"
   ]
  },
  {
   "cell_type": "code",
   "execution_count": 26,
   "metadata": {},
   "outputs": [
    {
     "data": {
      "text/plain": [
       "0    0.989713\n",
       "1    0.010287\n",
       "Name: Default, dtype: float64"
      ]
     },
     "execution_count": 26,
     "metadata": {},
     "output_type": "execute_result"
    }
   ],
   "source": [
    "y_train.value_counts(1)"
   ]
  },
  {
   "cell_type": "code",
   "execution_count": 27,
   "metadata": {},
   "outputs": [],
   "source": [
    "def get_na_feat(df):\n",
    "    na_columns = df.columns[df.isnull().any()]\n",
    "    return na_columns"
   ]
  },
  {
   "cell_type": "code",
   "execution_count": 28,
   "metadata": {},
   "outputs": [],
   "source": [
    "# DROP FEATURES WITH NA VALUES\n",
    "na_columns = get_na_feat(X)\n",
    "X = X.drop(na_columns,axis=1)"
   ]
  },
  {
   "cell_type": "code",
   "execution_count": 29,
   "metadata": {},
   "outputs": [],
   "source": [
    "def get_cat_feat(df):\n",
    "    cat_feat = df.select_dtypes(include=['object']).columns\n",
    "    return cat_feat\n",
    "\n",
    "def get_num_feat(df):\n",
    "    num_feat = df.select_dtypes(exclude=['object']).columns\n",
    "    return num_feat"
   ]
  },
  {
   "cell_type": "code",
   "execution_count": 30,
   "metadata": {},
   "outputs": [],
   "source": [
    "def label_encode(df):\n",
    "    df = df.apply(LabelEncoder().fit_transform)\n",
    "    return df\n",
    "\n",
    "def one_hot_encode(df):\n",
    "    enc = OneHotEncoder(handle_unknown='ignore')\n",
    "    df = enc.transform(df)\n",
    "    return df"
   ]
  },
  {
   "cell_type": "code",
   "execution_count": 31,
   "metadata": {},
   "outputs": [],
   "source": [
    "X = X.drop('ModFlag', axis=1)"
   ]
  },
  {
   "cell_type": "code",
   "execution_count": 32,
   "metadata": {},
   "outputs": [
    {
     "data": {
      "text/html": [
       "<div>\n",
       "<style scoped>\n",
       "    .dataframe tbody tr th:only-of-type {\n",
       "        vertical-align: middle;\n",
       "    }\n",
       "\n",
       "    .dataframe tbody tr th {\n",
       "        vertical-align: top;\n",
       "    }\n",
       "\n",
       "    .dataframe thead th {\n",
       "        text-align: right;\n",
       "    }\n",
       "</style>\n",
       "<table border=\"1\" class=\"dataframe\">\n",
       "  <thead>\n",
       "    <tr style=\"text-align: right;\">\n",
       "      <th></th>\n",
       "      <th>LoanID</th>\n",
       "      <th>MonthRep</th>\n",
       "      <th>CurrInterestRate</th>\n",
       "      <th>CAUPB</th>\n",
       "      <th>LoanAge</th>\n",
       "      <th>MonthsToMaturity</th>\n",
       "      <th>AdMonthsToMaturity</th>\n",
       "      <th>MaturityDate</th>\n",
       "      <th>MSA</th>\n",
       "      <th>CLDS</th>\n",
       "    </tr>\n",
       "  </thead>\n",
       "  <tbody>\n",
       "    <tr>\n",
       "      <th>1015</th>\n",
       "      <td>100021670447</td>\n",
       "      <td>4</td>\n",
       "      <td>4.500</td>\n",
       "      <td>75835.89</td>\n",
       "      <td>66</td>\n",
       "      <td>114</td>\n",
       "      <td>107.0</td>\n",
       "      <td>35</td>\n",
       "      <td>15940</td>\n",
       "      <td>0.0</td>\n",
       "    </tr>\n",
       "    <tr>\n",
       "      <th>40278</th>\n",
       "      <td>100609128433</td>\n",
       "      <td>5</td>\n",
       "      <td>4.375</td>\n",
       "      <td>114387.35</td>\n",
       "      <td>43</td>\n",
       "      <td>137</td>\n",
       "      <td>130.0</td>\n",
       "      <td>20</td>\n",
       "      <td>16980</td>\n",
       "      <td>0.0</td>\n",
       "    </tr>\n",
       "    <tr>\n",
       "      <th>51115</th>\n",
       "      <td>100760526472</td>\n",
       "      <td>3</td>\n",
       "      <td>4.500</td>\n",
       "      <td>156629.62</td>\n",
       "      <td>55</td>\n",
       "      <td>305</td>\n",
       "      <td>305.0</td>\n",
       "      <td>199</td>\n",
       "      <td>41860</td>\n",
       "      <td>0.0</td>\n",
       "    </tr>\n",
       "    <tr>\n",
       "      <th>20358</th>\n",
       "      <td>100323063324</td>\n",
       "      <td>6</td>\n",
       "      <td>4.625</td>\n",
       "      <td>136235.85</td>\n",
       "      <td>55</td>\n",
       "      <td>305</td>\n",
       "      <td>304.0</td>\n",
       "      <td>83</td>\n",
       "      <td>35620</td>\n",
       "      <td>0.0</td>\n",
       "    </tr>\n",
       "    <tr>\n",
       "      <th>71939</th>\n",
       "      <td>101056738742</td>\n",
       "      <td>3</td>\n",
       "      <td>3.500</td>\n",
       "      <td>108190.82</td>\n",
       "      <td>52</td>\n",
       "      <td>188</td>\n",
       "      <td>187.0</td>\n",
       "      <td>24</td>\n",
       "      <td>12060</td>\n",
       "      <td>0.0</td>\n",
       "    </tr>\n",
       "  </tbody>\n",
       "</table>\n",
       "</div>"
      ],
      "text/plain": [
       "             LoanID  MonthRep  CurrInterestRate      CAUPB  LoanAge  \\\n",
       "1015   100021670447         4             4.500   75835.89       66   \n",
       "40278  100609128433         5             4.375  114387.35       43   \n",
       "51115  100760526472         3             4.500  156629.62       55   \n",
       "20358  100323063324         6             4.625  136235.85       55   \n",
       "71939  101056738742         3             3.500  108190.82       52   \n",
       "\n",
       "       MonthsToMaturity  AdMonthsToMaturity  MaturityDate    MSA  CLDS  \n",
       "1015                114               107.0            35  15940   0.0  \n",
       "40278               137               130.0            20  16980   0.0  \n",
       "51115               305               305.0           199  41860   0.0  \n",
       "20358               305               304.0            83  35620   0.0  \n",
       "71939               188               187.0            24  12060   0.0  "
      ]
     },
     "execution_count": 32,
     "metadata": {},
     "output_type": "execute_result"
    }
   ],
   "source": [
    "# FIND THE CATEGORICAL FEATURES\n",
    "cat_feat = get_cat_feat(X)\n",
    "\n",
    "for cat in cat_feat:\n",
    "    X[cat] = LabelEncoder().fit_transform(X[cat])\n",
    "    \n",
    "X.head()"
   ]
  },
  {
   "cell_type": "code",
   "execution_count": null,
   "metadata": {},
   "outputs": [],
   "source": []
  },
  {
   "cell_type": "code",
   "execution_count": null,
   "metadata": {},
   "outputs": [],
   "source": []
  },
  {
   "cell_type": "code",
   "execution_count": 33,
   "metadata": {},
   "outputs": [
    {
     "data": {
      "text/html": [
       "<div>\n",
       "<style scoped>\n",
       "    .dataframe tbody tr th:only-of-type {\n",
       "        vertical-align: middle;\n",
       "    }\n",
       "\n",
       "    .dataframe tbody tr th {\n",
       "        vertical-align: top;\n",
       "    }\n",
       "\n",
       "    .dataframe thead th {\n",
       "        text-align: right;\n",
       "    }\n",
       "</style>\n",
       "<table border=\"1\" class=\"dataframe\">\n",
       "  <thead>\n",
       "    <tr style=\"text-align: right;\">\n",
       "      <th></th>\n",
       "      <th>LoanID</th>\n",
       "      <th>MonthRep</th>\n",
       "      <th>CurrInterestRate</th>\n",
       "      <th>CAUPB</th>\n",
       "      <th>LoanAge</th>\n",
       "      <th>MonthsToMaturity</th>\n",
       "      <th>AdMonthsToMaturity</th>\n",
       "      <th>MaturityDate</th>\n",
       "      <th>MSA</th>\n",
       "      <th>CLDS</th>\n",
       "    </tr>\n",
       "  </thead>\n",
       "  <tbody>\n",
       "    <tr>\n",
       "      <th>1015</th>\n",
       "      <td>100021670447</td>\n",
       "      <td>4</td>\n",
       "      <td>4.500</td>\n",
       "      <td>75835.89</td>\n",
       "      <td>66</td>\n",
       "      <td>114</td>\n",
       "      <td>107.0</td>\n",
       "      <td>35</td>\n",
       "      <td>15940</td>\n",
       "      <td>0.0</td>\n",
       "    </tr>\n",
       "    <tr>\n",
       "      <th>40278</th>\n",
       "      <td>100609128433</td>\n",
       "      <td>5</td>\n",
       "      <td>4.375</td>\n",
       "      <td>114387.35</td>\n",
       "      <td>43</td>\n",
       "      <td>137</td>\n",
       "      <td>130.0</td>\n",
       "      <td>20</td>\n",
       "      <td>16980</td>\n",
       "      <td>0.0</td>\n",
       "    </tr>\n",
       "    <tr>\n",
       "      <th>51115</th>\n",
       "      <td>100760526472</td>\n",
       "      <td>3</td>\n",
       "      <td>4.500</td>\n",
       "      <td>156629.62</td>\n",
       "      <td>55</td>\n",
       "      <td>305</td>\n",
       "      <td>305.0</td>\n",
       "      <td>199</td>\n",
       "      <td>41860</td>\n",
       "      <td>0.0</td>\n",
       "    </tr>\n",
       "    <tr>\n",
       "      <th>20358</th>\n",
       "      <td>100323063324</td>\n",
       "      <td>6</td>\n",
       "      <td>4.625</td>\n",
       "      <td>136235.85</td>\n",
       "      <td>55</td>\n",
       "      <td>305</td>\n",
       "      <td>304.0</td>\n",
       "      <td>83</td>\n",
       "      <td>35620</td>\n",
       "      <td>0.0</td>\n",
       "    </tr>\n",
       "    <tr>\n",
       "      <th>71939</th>\n",
       "      <td>101056738742</td>\n",
       "      <td>3</td>\n",
       "      <td>3.500</td>\n",
       "      <td>108190.82</td>\n",
       "      <td>52</td>\n",
       "      <td>188</td>\n",
       "      <td>187.0</td>\n",
       "      <td>24</td>\n",
       "      <td>12060</td>\n",
       "      <td>0.0</td>\n",
       "    </tr>\n",
       "  </tbody>\n",
       "</table>\n",
       "</div>"
      ],
      "text/plain": [
       "             LoanID  MonthRep  CurrInterestRate      CAUPB  LoanAge  \\\n",
       "1015   100021670447         4             4.500   75835.89       66   \n",
       "40278  100609128433         5             4.375  114387.35       43   \n",
       "51115  100760526472         3             4.500  156629.62       55   \n",
       "20358  100323063324         6             4.625  136235.85       55   \n",
       "71939  101056738742         3             3.500  108190.82       52   \n",
       "\n",
       "       MonthsToMaturity  AdMonthsToMaturity  MaturityDate    MSA  CLDS  \n",
       "1015                114               107.0            35  15940   0.0  \n",
       "40278               137               130.0            20  16980   0.0  \n",
       "51115               305               305.0           199  41860   0.0  \n",
       "20358               305               304.0            83  35620   0.0  \n",
       "71939               188               187.0            24  12060   0.0  "
      ]
     },
     "execution_count": 33,
     "metadata": {},
     "output_type": "execute_result"
    }
   ],
   "source": [
    "X.head()"
   ]
  },
  {
   "cell_type": "code",
   "execution_count": 34,
   "metadata": {},
   "outputs": [
    {
     "name": "stdout",
     "output_type": "stream",
     "text": [
      "1    0.5\n",
      "0    0.5\n",
      "dtype: float64\n"
     ]
    }
   ],
   "source": [
    "from imblearn.over_sampling import RandomOverSampler\n",
    "sm = RandomOverSampler()\n",
    "\n",
    "X_cols = X.columns\n",
    "X, y = sm.fit_sample(X, y) # fit_sample takes a dataframe, but returns an array. \n",
    "(X, y) = (pd.DataFrame(X, columns=X_cols), pd.Series(y))\n",
    "print(y.value_counts(1))"
   ]
  },
  {
   "cell_type": "code",
   "execution_count": null,
   "metadata": {},
   "outputs": [],
   "source": []
  },
  {
   "cell_type": "code",
   "execution_count": 35,
   "metadata": {},
   "outputs": [],
   "source": [
    "def normalize(df):\n",
    "    df_norm = df\n",
    "    df_norm = df_norm.apply(lambda x: (x - x.min()) / (x.max() - x.min()))\n",
    "    return df_norm"
   ]
  },
  {
   "cell_type": "code",
   "execution_count": 36,
   "metadata": {},
   "outputs": [
    {
     "data": {
      "text/html": [
       "<div>\n",
       "<style scoped>\n",
       "    .dataframe tbody tr th:only-of-type {\n",
       "        vertical-align: middle;\n",
       "    }\n",
       "\n",
       "    .dataframe tbody tr th {\n",
       "        vertical-align: top;\n",
       "    }\n",
       "\n",
       "    .dataframe thead th {\n",
       "        text-align: right;\n",
       "    }\n",
       "</style>\n",
       "<table border=\"1\" class=\"dataframe\">\n",
       "  <thead>\n",
       "    <tr style=\"text-align: right;\">\n",
       "      <th></th>\n",
       "      <th>LoanID</th>\n",
       "      <th>MonthRep</th>\n",
       "      <th>CurrInterestRate</th>\n",
       "      <th>CAUPB</th>\n",
       "      <th>LoanAge</th>\n",
       "      <th>MonthsToMaturity</th>\n",
       "      <th>AdMonthsToMaturity</th>\n",
       "      <th>MaturityDate</th>\n",
       "      <th>MSA</th>\n",
       "      <th>CLDS</th>\n",
       "    </tr>\n",
       "  </thead>\n",
       "  <tbody>\n",
       "    <tr>\n",
       "      <th>0</th>\n",
       "      <td>0.013654</td>\n",
       "      <td>0.571429</td>\n",
       "      <td>0.576923</td>\n",
       "      <td>0.110239</td>\n",
       "      <td>0.628866</td>\n",
       "      <td>0.123636</td>\n",
       "      <td>0.301408</td>\n",
       "      <td>0.158371</td>\n",
       "      <td>0.320466</td>\n",
       "      <td>0.0</td>\n",
       "    </tr>\n",
       "    <tr>\n",
       "      <th>1</th>\n",
       "      <td>0.412605</td>\n",
       "      <td>0.714286</td>\n",
       "      <td>0.538462</td>\n",
       "      <td>0.169104</td>\n",
       "      <td>0.391753</td>\n",
       "      <td>0.207273</td>\n",
       "      <td>0.366197</td>\n",
       "      <td>0.090498</td>\n",
       "      <td>0.341375</td>\n",
       "      <td>0.0</td>\n",
       "    </tr>\n",
       "    <tr>\n",
       "      <th>2</th>\n",
       "      <td>0.515422</td>\n",
       "      <td>0.428571</td>\n",
       "      <td>0.576923</td>\n",
       "      <td>0.233604</td>\n",
       "      <td>0.515464</td>\n",
       "      <td>0.818182</td>\n",
       "      <td>0.859155</td>\n",
       "      <td>0.900452</td>\n",
       "      <td>0.841576</td>\n",
       "      <td>0.0</td>\n",
       "    </tr>\n",
       "    <tr>\n",
       "      <th>3</th>\n",
       "      <td>0.218334</td>\n",
       "      <td>0.857143</td>\n",
       "      <td>0.615385</td>\n",
       "      <td>0.202464</td>\n",
       "      <td>0.515464</td>\n",
       "      <td>0.818182</td>\n",
       "      <td>0.856338</td>\n",
       "      <td>0.375566</td>\n",
       "      <td>0.716124</td>\n",
       "      <td>0.0</td>\n",
       "    </tr>\n",
       "    <tr>\n",
       "      <th>4</th>\n",
       "      <td>0.716584</td>\n",
       "      <td>0.428571</td>\n",
       "      <td>0.269231</td>\n",
       "      <td>0.159642</td>\n",
       "      <td>0.484536</td>\n",
       "      <td>0.392727</td>\n",
       "      <td>0.526761</td>\n",
       "      <td>0.108597</td>\n",
       "      <td>0.242461</td>\n",
       "      <td>0.0</td>\n",
       "    </tr>\n",
       "  </tbody>\n",
       "</table>\n",
       "</div>"
      ],
      "text/plain": [
       "     LoanID  MonthRep  CurrInterestRate     CAUPB   LoanAge  MonthsToMaturity  \\\n",
       "0  0.013654  0.571429          0.576923  0.110239  0.628866          0.123636   \n",
       "1  0.412605  0.714286          0.538462  0.169104  0.391753          0.207273   \n",
       "2  0.515422  0.428571          0.576923  0.233604  0.515464          0.818182   \n",
       "3  0.218334  0.857143          0.615385  0.202464  0.515464          0.818182   \n",
       "4  0.716584  0.428571          0.269231  0.159642  0.484536          0.392727   \n",
       "\n",
       "   AdMonthsToMaturity  MaturityDate       MSA  CLDS  \n",
       "0            0.301408      0.158371  0.320466   0.0  \n",
       "1            0.366197      0.090498  0.341375   0.0  \n",
       "2            0.859155      0.900452  0.841576   0.0  \n",
       "3            0.856338      0.375566  0.716124   0.0  \n",
       "4            0.526761      0.108597  0.242461   0.0  "
      ]
     },
     "execution_count": 36,
     "metadata": {},
     "output_type": "execute_result"
    }
   ],
   "source": [
    "X = normalize(X)\n",
    "X.head()"
   ]
  },
  {
   "cell_type": "code",
   "execution_count": 37,
   "metadata": {},
   "outputs": [
    {
     "data": {
      "text/plain": [
       "10"
      ]
     },
     "execution_count": 37,
     "metadata": {},
     "output_type": "execute_result"
    }
   ],
   "source": [
    "# DIVIDE THE DATA IN 10 STRATIFIED FOLDS\n",
    "skf = StratifiedKFold(n_splits=10)\n",
    "skf.get_n_splits(X, y)"
   ]
  },
  {
   "cell_type": "code",
   "execution_count": 38,
   "metadata": {},
   "outputs": [],
   "source": [
    "from xgboost import XGBClassifier\n",
    "model = XGBClassifier()"
   ]
  },
  {
   "cell_type": "code",
   "execution_count": null,
   "metadata": {},
   "outputs": [],
   "source": []
  },
  {
   "cell_type": "code",
   "execution_count": 39,
   "metadata": {},
   "outputs": [
    {
     "name": "stdout",
     "output_type": "stream",
     "text": [
      "False\n"
     ]
    },
    {
     "name": "stderr",
     "output_type": "stream",
     "text": [
      "C:\\Users\\bebxadvberb\\AppData\\Local\\Continuum\\anaconda3\\lib\\site-packages\\sklearn\\preprocessing\\label.py:151: DeprecationWarning: The truth value of an empty array is ambiguous. Returning False, but in future this will result in an error. Use `array.size > 0` to check that an array is not empty.\n",
      "  if diff:\n"
     ]
    },
    {
     "name": "stdout",
     "output_type": "stream",
     "text": [
      "[0 0 0 ... 1 1 1]\n",
      "Accuracy: 97.18% || AUC: 97.18% || F1 - Score: 97.23%\n",
      "False\n"
     ]
    },
    {
     "name": "stderr",
     "output_type": "stream",
     "text": [
      "C:\\Users\\bebxadvberb\\AppData\\Local\\Continuum\\anaconda3\\lib\\site-packages\\sklearn\\preprocessing\\label.py:151: DeprecationWarning: The truth value of an empty array is ambiguous. Returning False, but in future this will result in an error. Use `array.size > 0` to check that an array is not empty.\n",
      "  if diff:\n"
     ]
    },
    {
     "name": "stdout",
     "output_type": "stream",
     "text": [
      "[0 0 0 ... 1 1 1]\n",
      "Accuracy: 97.26% || AUC: 97.26% || F1 - Score: 97.27%\n",
      "False\n"
     ]
    },
    {
     "name": "stderr",
     "output_type": "stream",
     "text": [
      "C:\\Users\\bebxadvberb\\AppData\\Local\\Continuum\\anaconda3\\lib\\site-packages\\sklearn\\preprocessing\\label.py:151: DeprecationWarning: The truth value of an empty array is ambiguous. Returning False, but in future this will result in an error. Use `array.size > 0` to check that an array is not empty.\n",
      "  if diff:\n"
     ]
    },
    {
     "name": "stdout",
     "output_type": "stream",
     "text": [
      "[0 0 0 ... 1 1 1]\n",
      "Accuracy: 98.66% || AUC: 98.66% || F1 - Score: 98.68%\n",
      "False\n"
     ]
    },
    {
     "name": "stderr",
     "output_type": "stream",
     "text": [
      "C:\\Users\\bebxadvberb\\AppData\\Local\\Continuum\\anaconda3\\lib\\site-packages\\sklearn\\preprocessing\\label.py:151: DeprecationWarning: The truth value of an empty array is ambiguous. Returning False, but in future this will result in an error. Use `array.size > 0` to check that an array is not empty.\n",
      "  if diff:\n"
     ]
    },
    {
     "name": "stdout",
     "output_type": "stream",
     "text": [
      "[0 0 0 ... 1 1 1]\n",
      "Accuracy: 97.92% || AUC: 97.92% || F1 - Score: 97.97%\n",
      "False\n"
     ]
    },
    {
     "name": "stderr",
     "output_type": "stream",
     "text": [
      "C:\\Users\\bebxadvberb\\AppData\\Local\\Continuum\\anaconda3\\lib\\site-packages\\sklearn\\preprocessing\\label.py:151: DeprecationWarning: The truth value of an empty array is ambiguous. Returning False, but in future this will result in an error. Use `array.size > 0` to check that an array is not empty.\n",
      "  if diff:\n"
     ]
    },
    {
     "name": "stdout",
     "output_type": "stream",
     "text": [
      "[1 0 0 ... 1 1 1]\n",
      "Accuracy: 96.14% || AUC: 96.14% || F1 - Score: 96.22%\n",
      "False\n"
     ]
    },
    {
     "name": "stderr",
     "output_type": "stream",
     "text": [
      "C:\\Users\\bebxadvberb\\AppData\\Local\\Continuum\\anaconda3\\lib\\site-packages\\sklearn\\preprocessing\\label.py:151: DeprecationWarning: The truth value of an empty array is ambiguous. Returning False, but in future this will result in an error. Use `array.size > 0` to check that an array is not empty.\n",
      "  if diff:\n"
     ]
    },
    {
     "name": "stdout",
     "output_type": "stream",
     "text": [
      "[0 0 0 ... 1 1 1]\n",
      "Accuracy: 97.25% || AUC: 97.25% || F1 - Score: 97.29%\n",
      "False\n"
     ]
    },
    {
     "name": "stderr",
     "output_type": "stream",
     "text": [
      "C:\\Users\\bebxadvberb\\AppData\\Local\\Continuum\\anaconda3\\lib\\site-packages\\sklearn\\preprocessing\\label.py:151: DeprecationWarning: The truth value of an empty array is ambiguous. Returning False, but in future this will result in an error. Use `array.size > 0` to check that an array is not empty.\n",
      "  if diff:\n"
     ]
    },
    {
     "name": "stdout",
     "output_type": "stream",
     "text": [
      "[0 0 0 ... 1 1 1]\n",
      "Accuracy: 98.14% || AUC: 98.14% || F1 - Score: 98.18%\n",
      "False\n"
     ]
    },
    {
     "name": "stderr",
     "output_type": "stream",
     "text": [
      "C:\\Users\\bebxadvberb\\AppData\\Local\\Continuum\\anaconda3\\lib\\site-packages\\sklearn\\preprocessing\\label.py:151: DeprecationWarning: The truth value of an empty array is ambiguous. Returning False, but in future this will result in an error. Use `array.size > 0` to check that an array is not empty.\n",
      "  if diff:\n"
     ]
    },
    {
     "name": "stdout",
     "output_type": "stream",
     "text": [
      "[0 0 0 ... 1 1 1]\n",
      "Accuracy: 97.33% || AUC: 97.33% || F1 - Score: 97.35%\n",
      "False\n"
     ]
    },
    {
     "name": "stderr",
     "output_type": "stream",
     "text": [
      "C:\\Users\\bebxadvberb\\AppData\\Local\\Continuum\\anaconda3\\lib\\site-packages\\sklearn\\preprocessing\\label.py:151: DeprecationWarning: The truth value of an empty array is ambiguous. Returning False, but in future this will result in an error. Use `array.size > 0` to check that an array is not empty.\n",
      "  if diff:\n"
     ]
    },
    {
     "name": "stdout",
     "output_type": "stream",
     "text": [
      "[0 0 0 ... 1 1 1]\n",
      "Accuracy: 98.59% || AUC: 98.59% || F1 - Score: 98.59%\n",
      "False\n",
      "[0 0 0 ... 1 1 1]\n",
      "Accuracy: 97.85% || AUC: 97.85% || F1 - Score: 97.89%\n"
     ]
    },
    {
     "name": "stderr",
     "output_type": "stream",
     "text": [
      "C:\\Users\\bebxadvberb\\AppData\\Local\\Continuum\\anaconda3\\lib\\site-packages\\sklearn\\preprocessing\\label.py:151: DeprecationWarning: The truth value of an empty array is ambiguous. Returning False, but in future this will result in an error. Use `array.size > 0` to check that an array is not empty.\n",
      "  if diff:\n"
     ]
    }
   ],
   "source": [
    "for train_index, test_index in skf.split(X, y):\n",
    "    \n",
    "    # print(\"TRAIN:\", train_index, \"TEST:\", test_index)\n",
    "    X_train, X_test = X.iloc[train_index], X.iloc[test_index]\n",
    "    y_train, y_test = y.iloc[train_index], y.iloc[test_index]\n",
    "    print(y_train.isnull().values.any())\n",
    "    \n",
    "    # fit model on training data\n",
    "    model.fit(X_train, y_train)\n",
    "    \n",
    "    # make predictions for test data\n",
    "    y_pred = model.predict(X_test)\n",
    "    # temp = pd.concat([X_test,y_pred], axis=1)\n",
    "    print(y_pred)\n",
    "    predictions = [round(value) for value in y_pred]\n",
    "    \n",
    "    # evaluate predictions\n",
    "    auc = roc_auc_score(y_test, predictions)\n",
    "    accuracy = accuracy_score(y_test, predictions)\n",
    "    f1 = f1_score(y_test, predictions)\n",
    "    print(\"Accuracy: %.2f%%\" % (accuracy * 100.0), \"|| AUC: %.2f%%\" % (auc * 100.0), \"|| F1 - Score: %.2f%%\" % (f1 * 100.0))"
   ]
  },
  {
   "cell_type": "code",
   "execution_count": null,
   "metadata": {},
   "outputs": [],
   "source": []
  }
 ],
 "metadata": {
  "kernelspec": {
   "display_name": "Python 3",
   "language": "python",
   "name": "python3"
  },
  "language_info": {
   "codemirror_mode": {
    "name": "ipython",
    "version": 3
   },
   "file_extension": ".py",
   "mimetype": "text/x-python",
   "name": "python",
   "nbconvert_exporter": "python",
   "pygments_lexer": "ipython3",
   "version": "3.6.5"
  }
 },
 "nbformat": 4,
 "nbformat_minor": 2
}
